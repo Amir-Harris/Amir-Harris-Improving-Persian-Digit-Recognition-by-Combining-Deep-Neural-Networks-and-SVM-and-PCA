{
 "cells": [
  {
   "cell_type": "code",
   "execution_count": null,
   "id": "bb6d1723-7d3e-4a2a-bec9-c5bd5e0f3059",
   "metadata": {},
   "outputs": [],
   "source": [
    "import mne\n",
    "\n",
    "# Load the .xdf file\n",
    "raw = mne.io.read_raw_xdf('path/to/your/file.xdf', verbose=False)\n",
    "\n",
    "# Extract the EEG data\n",
    "eeg_data = raw.get_data()\n",
    "\n",
    "# Transpose the data to have time samples in rows and channels in columns\n",
    "eeg_data = eeg_data.T\n",
    "\n",
    "# Define the output .csv file path\n",
    "output_csv_file = 'path/to/output/file.csv'\n",
    "\n",
    "# Save the EEG data as a .csv file\n",
    "header = ','.join(raw.ch_names)  # Use channel names as the header\n",
    "data = '\\n'.join(','.join(str(x) for x in row) for row in eeg_data)\n",
    "csv_content = header + '\\n' + data\n",
    "\n",
    "with open(output_csv_file, 'w') as f:\n",
    "    f.write(csv_content)\n",
    "\n",
    "print(f\"EEG data successfully saved to {output_csv_file}\")"
   ]
  }
 ],
 "metadata": {
  "kernelspec": {
   "display_name": "Python 3 (ipykernel)",
   "language": "python",
   "name": "python3"
  },
  "language_info": {
   "codemirror_mode": {
    "name": "ipython",
    "version": 3
   },
   "file_extension": ".py",
   "mimetype": "text/x-python",
   "name": "python",
   "nbconvert_exporter": "python",
   "pygments_lexer": "ipython3",
   "version": "3.10.6"
  }
 },
 "nbformat": 4,
 "nbformat_minor": 5
}

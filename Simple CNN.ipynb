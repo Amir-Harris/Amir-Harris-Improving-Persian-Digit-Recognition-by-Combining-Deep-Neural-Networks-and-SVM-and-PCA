{
 "cells": [
  {
   "cell_type": "code",
   "execution_count": null,
   "metadata": {
    "colab": {},
    "colab_type": "code",
    "id": "zkauQlBB0thI"
   },
   "outputs": [],
   "source": [
    "import keras\n",
    "from keras import layers\n",
    "from keras.models import Sequential\n",
    "from keras.layers import Dense, Dropout, Activation\n",
    "import numpy as np\n",
    "import matplotlib.pyplot as plt\n",
    "\n",
    "model = Sequential()\n",
    "model.add(layers.Conv2D(32, (3, 3), activation='relu',input_shape=(28, 28, 1)))\n",
    "model.add(layers.MaxPooling2D((2, 2)))\n",
    "model.add(layers.Conv2D(64, (3, 3), activation='relu'))\n",
    "model.add(layers.MaxPooling2D((2, 2)))\n",
    "model.add(layers.Conv2D(64, (3, 3), activation='relu'))\n",
    "model.add(layers.Flatten())\n",
    "model.add(layers.Dense(64, activation='relu'))\n",
    "model.add(Dropout(0.5))\n",
    "model.add(layers.Dense(10, activation='softmax'))\n"
   ]
  },
  {
   "cell_type": "code",
   "execution_count": null,
   "metadata": {
    "colab": {},
    "colab_type": "code",
    "id": "6HI9MPR-SIzm"
   },
   "outputs": [],
   "source": [
    "# for more information read \"19-Intro2ML-HodaDataset.ipynb\"\n",
    "import cv2\n",
    "import numpy as np\n",
    "from scipy import io\n",
    "\n",
    "def load_hoda(training_sample_size=1000, test_sample_size=200, size=5):\n",
    "    #load dataset\n",
    "    trs = training_sample_size\n",
    "    tes = test_sample_size\n",
    "    dataset = io.loadmat('Data_hoda_full.mat')\n",
    "\n",
    "    #test and training set\n",
    "    X_train_orginal = np.squeeze(dataset['Data'][:trs])\n",
    "    y_train = np.squeeze(dataset['labels'][:trs])\n",
    "    X_test_original = np.squeeze(dataset['Data'][trs:trs+tes])\n",
    "    y_test = np.squeeze(dataset['labels'][trs:trs+tes])\n",
    "\n",
    "    #resize\n",
    "    X_train_5by5 = [cv2.resize(img, dsize=(size, size)) for img in X_train_orginal]\n",
    "    X_test_5by_5 = [cv2.resize(img, dsize=(size, size)) for img in X_test_original]\n",
    "    #reshape\n",
    "    X_train = [x.reshape(size*size) for x in X_train_5by5]\n",
    "    X_test = [x.reshape(size*size) for x in X_test_5by_5]\n",
    "    \n",
    "    return X_train, y_train, X_test, y_test"
   ]
  },
  {
   "cell_type": "code",
   "execution_count": 6,
   "metadata": {
    "colab": {
     "base_uri": "https://localhost:8080/",
     "height": 498
    },
    "colab_type": "code",
    "id": "h6Gge865TgMn",
    "outputId": "4eb1aa97-1dcd-48d9-9f02-5e4f0f5652eb"
   },
   "outputs": [
    {
     "name": "stdout",
     "output_type": "stream",
     "text": [
      "Model: \"sequential_2\"\n",
      "_________________________________________________________________\n",
      "Layer (type)                 Output Shape              Param #   \n",
      "=================================================================\n",
      "conv2d_4 (Conv2D)            (None, 26, 26, 32)        320       \n",
      "_________________________________________________________________\n",
      "max_pooling2d_3 (MaxPooling2 (None, 13, 13, 32)        0         \n",
      "_________________________________________________________________\n",
      "conv2d_5 (Conv2D)            (None, 11, 11, 64)        18496     \n",
      "_________________________________________________________________\n",
      "max_pooling2d_4 (MaxPooling2 (None, 5, 5, 64)          0         \n",
      "_________________________________________________________________\n",
      "conv2d_6 (Conv2D)            (None, 3, 3, 64)          36928     \n",
      "_________________________________________________________________\n",
      "flatten_2 (Flatten)          (None, 576)               0         \n",
      "_________________________________________________________________\n",
      "dense_3 (Dense)              (None, 64)                36928     \n",
      "_________________________________________________________________\n",
      "dropout_2 (Dropout)          (None, 64)                0         \n",
      "_________________________________________________________________\n",
      "dense_4 (Dense)              (None, 10)                650       \n",
      "=================================================================\n",
      "Total params: 93,322\n",
      "Trainable params: 93,322\n",
      "Non-trainable params: 0\n",
      "_________________________________________________________________\n"
     ]
    }
   ],
   "source": [
    "model.summary()"
   ]
  },
  {
   "cell_type": "code",
   "execution_count": 12,
   "metadata": {
    "colab": {
     "base_uri": "https://localhost:8080/",
     "height": 775
    },
    "colab_type": "code",
    "id": "-S-841ZbYWda",
    "outputId": "3d4e563c-a5b2-481a-862d-ce3c58cdf1c5"
   },
   "outputs": [
    {
     "name": "stdout",
     "output_type": "stream",
     "text": [
      "Train on 10000 samples, validate on 5000 samples\n",
      "Epoch 1/20\n",
      "10000/10000 [==============================] - 9s 927us/step - loss: 1.3724 - acc: 0.5474 - val_loss: 0.4559 - val_acc: 0.8450\n",
      "Epoch 2/20\n",
      "10000/10000 [==============================] - 9s 872us/step - loss: 0.5123 - acc: 0.8174 - val_loss: 0.2209 - val_acc: 0.9342\n",
      "Epoch 3/20\n",
      "10000/10000 [==============================] - 9s 865us/step - loss: 0.3311 - acc: 0.8919 - val_loss: 0.1593 - val_acc: 0.9500\n",
      "Epoch 4/20\n",
      "10000/10000 [==============================] - 9s 857us/step - loss: 0.2595 - acc: 0.9146 - val_loss: 0.1309 - val_acc: 0.9596\n",
      "Epoch 5/20\n",
      "10000/10000 [==============================] - 9s 858us/step - loss: 0.2205 - acc: 0.9280 - val_loss: 0.1058 - val_acc: 0.9650\n",
      "Epoch 6/20\n",
      "10000/10000 [==============================] - 9s 870us/step - loss: 0.1894 - acc: 0.9418 - val_loss: 0.0943 - val_acc: 0.9686\n",
      "Epoch 7/20\n",
      "10000/10000 [==============================] - 9s 880us/step - loss: 0.1648 - acc: 0.9490 - val_loss: 0.0950 - val_acc: 0.9688\n",
      "Epoch 8/20\n",
      "10000/10000 [==============================] - 9s 861us/step - loss: 0.1632 - acc: 0.9489 - val_loss: 0.0793 - val_acc: 0.9732\n",
      "Epoch 9/20\n",
      "10000/10000 [==============================] - 9s 867us/step - loss: 0.1262 - acc: 0.9603 - val_loss: 0.0781 - val_acc: 0.9738\n",
      "Epoch 10/20\n",
      "10000/10000 [==============================] - 9s 856us/step - loss: 0.1218 - acc: 0.9593 - val_loss: 0.0763 - val_acc: 0.9762\n",
      "Epoch 11/20\n",
      "10000/10000 [==============================] - 9s 854us/step - loss: 0.1066 - acc: 0.9653 - val_loss: 0.0751 - val_acc: 0.9758\n",
      "Epoch 12/20\n",
      "10000/10000 [==============================] - 9s 856us/step - loss: 0.1144 - acc: 0.9638 - val_loss: 0.0766 - val_acc: 0.9752\n",
      "Epoch 13/20\n",
      "10000/10000 [==============================] - 9s 859us/step - loss: 0.0855 - acc: 0.9718 - val_loss: 0.0696 - val_acc: 0.9778\n",
      "Epoch 14/20\n",
      "10000/10000 [==============================] - 9s 858us/step - loss: 0.0822 - acc: 0.9754 - val_loss: 0.0679 - val_acc: 0.9786\n",
      "Epoch 15/20\n",
      "10000/10000 [==============================] - 9s 864us/step - loss: 0.0805 - acc: 0.9768 - val_loss: 0.0663 - val_acc: 0.9792\n",
      "Epoch 16/20\n",
      "10000/10000 [==============================] - 9s 867us/step - loss: 0.0658 - acc: 0.9794 - val_loss: 0.0707 - val_acc: 0.9782\n",
      "Epoch 17/20\n",
      "10000/10000 [==============================] - 9s 860us/step - loss: 0.0676 - acc: 0.9781 - val_loss: 0.0571 - val_acc: 0.9816\n",
      "Epoch 18/20\n",
      "10000/10000 [==============================] - 9s 859us/step - loss: 0.0550 - acc: 0.9835 - val_loss: 0.0586 - val_acc: 0.9836\n",
      "Epoch 19/20\n",
      "10000/10000 [==============================] - 9s 859us/step - loss: 0.0748 - acc: 0.9756 - val_loss: 0.0631 - val_acc: 0.9804\n",
      "Epoch 20/20\n",
      "10000/10000 [==============================] - 9s 859us/step - loss: 0.0585 - acc: 0.9799 - val_loss: 0.0644 - val_acc: 0.9824\n"
     ]
    }
   ],
   "source": [
    "# 1. Import libraries and modules\n",
    "import keras\n",
    "from keras import layers\n",
    "from keras.models import Sequential\n",
    "from keras.layers import Dense, Dropout, Activation\n",
    "import numpy as np\n",
    "\n",
    "import matplotlib.pyplot as plt\n",
    "\n",
    "np.random.seed(123)  # for reproducibility\n",
    "\n",
    "# Load pre-shuffled HODA data into train and test sets\n",
    "x_train_original, y_train_original, x_test_original, y_test_original = load_hoda(\n",
    "                                                                        training_sample_size=10000,\n",
    "                                                                        test_sample_size=5000,size=28)\n",
    "\n",
    "# Preprocess input data\n",
    "''' 3.1: input data in numpy array format'''\n",
    "x_train = np.array(x_train_original)\n",
    "x_test = np.array(x_test_original)\n",
    "'''3.2 normalize our data values to the range [0, 1]'''\n",
    "x_train = x_train.astype('float32')\n",
    "x_test = x_test.astype('float32')\n",
    "x_train /= 255\n",
    "x_test /= 255\n",
    "\n",
    "# Reshape to original image shape (n x 784)  ==> (n x 28 x 28 x 1)\n",
    "x_train = x_train.reshape(-1,28,28,1)\n",
    "x_test = x_test.reshape(-1,28,28,1)\n",
    "\n",
    "\n",
    "# 4. Preprocess class labels\n",
    "y_train = keras.utils.to_categorical(y_train_original, num_classes=10)\n",
    "y_test = keras.utils.to_categorical(y_test_original, num_classes=10)\n",
    "\n",
    "\n",
    "# test and validation set\n",
    "x_val = x_test[:5000]\n",
    "x_test = x_test[5000:]\n",
    "y_val = y_test[:5000]\n",
    "y_test = y_test[5000:]\n",
    "\n",
    "# 5. Define model architecture\n",
    "model = Sequential()\n",
    "model.add(layers.Conv2D(32, (3, 3), activation='relu',\n",
    "                        input_shape=(28, 28, 1)))\n",
    "model.add(layers.MaxPooling2D((2, 2)))\n",
    "model.add(layers.Conv2D(64, (3, 3), activation='relu'))\n",
    "model.add(layers.MaxPooling2D((2, 2)))\n",
    "model.add(layers.Conv2D(64, (3, 3), activation='relu'))\n",
    "model.add(layers.Flatten())\n",
    "model.add(layers.Dense(64, activation='relu'))\n",
    "model.add(Dropout(0.5))\n",
    "model.add(layers.Dense(10, activation='softmax'))\n",
    "\n",
    "\n",
    "# 6. Compile model\n",
    "model.compile(loss='categorical_crossentropy',\n",
    "              optimizer='adam',\n",
    "              metrics=['accuracy'])\n",
    "\n",
    "\n",
    "# 7. Fit model on training data\n",
    "history = model.fit(x_train, y_train,\n",
    "          epochs=20, batch_size=256, validation_data = (x_val, y_val))\n",
    "\n"
   ]
  },
  {
   "cell_type": "code",
   "execution_count": 14,
   "metadata": {
    "colab": {
     "base_uri": "https://localhost:8080/",
     "height": 563
    },
    "colab_type": "code",
    "id": "lfrSrK-MWHi7",
    "outputId": "b849532d-b16e-4366-b43b-1a3b286a2358"
   },
   "outputs": [
    {
     "data": {
      "image/png": "[encoded data removed]",
      "text/plain": [
       "<Figure size 432x288 with 1 Axes>"
      ]
     },
     "metadata": {
      "tags": []
     },
     "output_type": "display_data"
    },
    {
     "data": {
      "image/png": "[encoded data removed]",
      "text/plain": [
       "<Figure size 432x288 with 1 Axes>"
      ]
     },
     "metadata": {
      "tags": []
     },
     "output_type": "display_data"
    },
    {
     "name": "stdout",
     "output_type": "stream",
     "text": [
      "final accuracy on tst data is :  0.9799\n"
     ]
    }
   ],
   "source": [
    "import matplotlib.pyplot as plt\n",
    "%matplotlib inline\n",
    "acc = history.history['acc']\n",
    "val_acc = history.history['val_acc']\n",
    "loss = history.history['loss']\n",
    "val_loss = history.history['val_loss']\n",
    "\n",
    "epochs = range(len(acc))\n",
    "\n",
    "plt.plot(epochs, acc, 'bo', label='Training acc')\n",
    "plt.plot(epochs, val_acc, 'b', label='Validation acc')\n",
    "plt.title('Training and validation accuracy')\n",
    "plt.legend()\n",
    "\n",
    "plt.figure()\n",
    "\n",
    "plt.plot(epochs, loss, 'bo', label='Training loss')\n",
    "plt.plot(epochs, val_loss, 'b', label='Validation loss')\n",
    "plt.title('Training and validation loss')\n",
    "plt.legend()\n",
    "\n",
    "plt.show()\n"
   ]
  },
  {
   "cell_type": "code",
   "execution_count": 17,
   "metadata": {
    "colab": {
     "base_uri": "https://localhost:8080/",
     "height": 72
    },
    "colab_type": "code",
    "id": "SEw7Ezd1NUeP",
    "outputId": "66eed168-e09b-48f8-d105-f27c368cd4af"
   },
   "outputs": [
    {
     "name": "stdout",
     "output_type": "stream",
     "text": [
      "5000/5000 [==============================] - 2s 322us/step\n",
      "\n",
      "Testing loss: 0.05, acc: 0.98%\n"
     ]
    }
   ],
   "source": [
    "loss, acc = model.evaluate(x_test, y_test)\n",
    "print('\\nTesting loss: %.2f, acc: %.2f%%'%(loss, acc))"
   ]
  },
  {
   "cell_type": "code",
   "execution_count": 33,
   "metadata": {
    "colab": {
     "base_uri": "https://localhost:8080/",
     "height": 294
    },
    "colab_type": "code",
    "id": "97p9lL_pNYYG",
    "outputId": "26a00a5f-9e01-492a-c24a-5b11a306ae3a"
   },
   "outputs": [
    {
     "name": "stdout",
     "output_type": "stream",
     "text": [
      "predicted:\n",
      "[8 9 3 ... 9 9 7]\n",
      "True Label:\n",
      "[5 8 8 ... 9 9 7]\n",
      "Confusion matrix:\n",
      "[[470  18   0   0   0   2   0   1   1   1]\n",
      " [  8 510   0   0   0   0   1   0   0   2]\n",
      " [  0   2 497   3   2   0   0   0   0   1]\n",
      " [  0   0   9 481   5   0   0   0   0   0]\n",
      " [  0   0   0   2 490   1   0   0   0   0]\n",
      " [  3   0   0   0   1 508   1   0   0   0]\n",
      " [  0   1   1   0   2   0 470   0   0   2]\n",
      " [  0   0   1   0   2   0   0 494   0   0]\n",
      " [  0   0   0   0   0   0   0   0 508   2]\n",
      " [  0   0   1   0   1   1   4   0   0 490]]\n"
     ]
    }
   ],
   "source": [
    "predicted_classes = model.predict_classes(x_test)\n",
    "print(\"predicted:\")\n",
    "print(predicted_classes)\n",
    "print(\"True Label:\")\n",
    "print(y_test_original)\n",
    "print(\"Confusion matrix:\\n%s\" % metrics.confusion_matrix(y_test_original[5000:], predicted_classes))\n",
    "#confusion_matrix(y_test,predicted_classes)"
   ]
  }
 ],
 "metadata": {
  "colab": {
   "name": "Untitled2.ipynb",
   "provenance": [],
   "toc_visible": true
  },
  "kernelspec": {
   "display_name": "Python 3 (ipykernel)",
   "language": "python",
   "name": "python3"
  },
  "language_info": {
   "codemirror_mode": {
    "name": "ipython",
    "version": 3
   },
   "file_extension": ".py",
   "mimetype": "text/x-python",
   "name": "python",
   "nbconvert_exporter": "python",
   "pygments_lexer": "ipython3",
   "version": "3.10.6"
  }
 },
 "nbformat": 4,
 "nbformat_minor": 4
}

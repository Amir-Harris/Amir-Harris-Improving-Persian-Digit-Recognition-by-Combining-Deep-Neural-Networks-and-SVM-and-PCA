{
 "cells": [
  {
   "cell_type": "markdown",
   "metadata": {
    "colab_type": "text",
    "id": "1vHmsLxWnf-k"
   },
   "source": [
    "## **initialization**\n",
    " importing the liberaries\n",
    "\n",
    "```\n",
    "# This is formatted as code\n",
    "```\n",
    "\n"
   ]
  },
  {
   "cell_type": "code",
   "execution_count": null,
   "metadata": {
    "colab": {
     "base_uri": "https://localhost:8080/",
     "height": 34
    },
    "colab_type": "code",
    "id": "U_LbMeGbp8HN",
    "outputId": "8ac19e28-0401-4e75-e978-324418edb713"
   },
   "outputs": [
    {
     "name": "stderr",
     "output_type": "stream",
     "text": [
      "Using TensorFlow backend.\n"
     ]
    }
   ],
   "source": [
    "import keras\n",
    "from keras import layers\n",
    "from keras.models import Sequential\n",
    "from keras.layers import Dense, Dropout, Activation\n",
    "from keras import optimizers\n",
    "import numpy as np\n",
    "import matplotlib.pyplot as plt\n",
    "import keras\n",
    "import cv2\n",
    "from scipy import io\n",
    "keras.__version__\n",
    "\n",
    "from keras.applications import VGG16\n"
   ]
  },
  {
   "cell_type": "markdown",
   "metadata": {
    "colab_type": "text",
    "id": "vln9uHXSpJ96"
   },
   "source": [
    "## **initializing the hoda dataset**\n",
    "resizing and normalizing the samples\n",
    "\n",
    "initializing the taken samples to final test "
   ]
  },
  {
   "cell_type": "code",
   "execution_count": null,
   "metadata": {
    "colab": {},
    "colab_type": "code",
    "id": "Q-KKn38pJmNn"
   },
   "outputs": [],
   "source": [
    "def load_hoda(training_sample_size=2000, test_sample_size=300, size=5):\n",
    "    #load dataset\n",
    "    trs = training_sample_size\n",
    "    tes = test_sample_size\n",
    "    dataset = io.loadmat('Data_hoda_full.mat')\n",
    "\n",
    "    #test and training set\n",
    "    X_train_orginal = np.squeeze(dataset['Data'][:trs])\n",
    "    y_train = np.squeeze(dataset['labels'][:trs])\n",
    "    X_test_original = np.squeeze(dataset['Data'][trs+37000:trs+tes+37000])\n",
    "    y_test = np.squeeze(dataset['labels'][trs+37000:trs+tes+37000])\n",
    "\n",
    "    #resize\n",
    "    X_train = [cv2.cvtColor(cv2.resize(img, dsize=(size, size)), cv2.COLOR_GRAY2RGB) for img in X_train_orginal]\n",
    "    X_test = [cv2.cvtColor(cv2.resize(img, dsize=(size, size)), cv2.COLOR_GRAY2RGB) for img in X_test_original]\n",
    "    #reshape\n",
    "    # X_train = [x.reshape(size*size) for x in X_train_5by5]\n",
    "    # X_test = [x.reshape(size*size) for x in X_test_5by_5]\n",
    "    \n",
    "    return np.array(X_train)/255., np.array(y_train), np.array(X_test)/255., np.array(y_test)"
   ]
  },
  {
   "cell_type": "markdown",
   "metadata": {
    "colab_type": "text",
    "id": "2URpokYmpuY8"
   },
   "source": [
    "## *creating the folder of images*\n",
    "\n",
    "in order to reduce the RAM usage , we converted the values of dataset  (mat.file) to images"
   ]
  },
  {
   "cell_type": "code",
   "execution_count": null,
   "metadata": {
    "colab": {},
    "colab_type": "code",
    "id": "Kh8dluUZDfZM"
   },
   "outputs": [],
   "source": [
    "!rm -rf hoda\n",
    "!mkdir hoda\n",
    "\n",
    "!mkdir hoda/train\n",
    "!mkdir hoda/train/1\n",
    "!mkdir hoda/train/2\n",
    "!mkdir hoda/train/3\n",
    "!mkdir hoda/train/4\n",
    "!mkdir hoda/train/5\n",
    "!mkdir hoda/train/6\n",
    "!mkdir hoda/train/7\n",
    "!mkdir hoda/train/8\n",
    "!mkdir hoda/train/9\n",
    "!mkdir hoda/train/0\n",
    "\n",
    "!mkdir hoda/test\n",
    "!mkdir hoda/test/1\n",
    "!mkdir hoda/test/2\n",
    "!mkdir hoda/test/3\n",
    "!mkdir hoda/test/4\n",
    "!mkdir hoda/test/5\n",
    "!mkdir hoda/test/6\n",
    "!mkdir hoda/test/7\n",
    "!mkdir hoda/test/8\n",
    "!mkdir hoda/test/9\n",
    "!mkdir hoda/test/0"
   ]
  },
  {
   "cell_type": "markdown",
   "metadata": {
    "colab_type": "text",
    "id": "Kz8dHHPLqbBy"
   },
   "source": [
    "# *deviding the datast to the 2 part of training set and test set*"
   ]
  },
  {
   "cell_type": "code",
   "execution_count": null,
   "metadata": {
    "colab": {},
    "colab_type": "code",
    "id": "bDl4cVPVvZEr"
   },
   "outputs": [],
   "source": [
    "def load_hoda3(size=5):\n",
    "\n",
    "  dataset = io.loadmat('TestHoda.mat')\n",
    "\n",
    "  for i in range(20000):\n",
    "    #test and training set\n",
    "    X_orginal = np.array(dataset['Data'][i][0])\n",
    "    y = np.squeeze(dataset['labels'][i])\n",
    "    #resize\n",
    "    X_train = cv2.cvtColor(cv2.resize(X_orginal, dsize=(size, size)), cv2.COLOR_GRAY2RGB)\n",
    "    #reshape\n",
    "    # X_train = [x.reshape(size*size) for x in X_train_5by5]\n",
    "    # X_test = [x.reshape(size*size) for x in X_test_5by_5]\n",
    "    if np.random.random() < 0.3:\n",
    "      cv2.imwrite('hoda/train/' + str(y) + '/' + str(i) + '.jpg', X_train)\n",
    "    else:\n",
    "      cv2.imwrite('hoda/test/' + str(y) + '/' + str(i) + '.jpg', X_train)\n",
    "    if i % 1000 == 0:\n",
    "      print(i)"
   ]
  },
  {
   "cell_type": "code",
   "execution_count": null,
   "metadata": {
    "colab": {},
    "colab_type": "code",
    "id": "WLQEYgRcvXgZ"
   },
   "outputs": [],
   "source": [
    "def load_hoda2(size=5):\n",
    "\n",
    "  dataset = io.loadmat('Data_hoda_full.mat')\n",
    "\n",
    "  for i in range(60000):\n",
    "    #test and training set\n",
    "    X_orginal = np.array(dataset['Data'][i][0])\n",
    "    y = np.squeeze(dataset['labels'][i])\n",
    "    #resize\n",
    "    X_train = cv2.cvtColor(cv2.resize(X_orginal, dsize=(size, size)), cv2.COLOR_GRAY2RGB)\n",
    "    #reshape\n",
    "    # X_train = [x.reshape(size*size) for x in X_train_5by5]\n",
    "    # X_test = [x.reshape(size*size) for x in X_test_5by_5]\n",
    "    if np.random.random() < 0.3:\n",
    "      cv2.imwrite('hoda/train/' + str(y) + '/' + str(i) + '.jpg', X_train)\n",
    "    else:\n",
    "      cv2.imwrite('hoda/test/' + str(y) + '/' + str(i) + '.jpg', X_train)\n",
    "    if i % 1000 == 0:\n",
    "      print(i)"
   ]
  },
  {
   "cell_type": "code",
   "execution_count": null,
   "metadata": {
    "colab": {},
    "colab_type": "code",
    "id": "DiYQsHelyk9Z"
   },
   "outputs": [],
   "source": [
    "def load_hoda2(size=5):\n",
    "\n",
    "  dataset = io.loadmat('Data_hoda_full.mat')\n",
    "\n",
    "\n",
    "  for i in range(60000):\n",
    "    #test and training set\n",
    "    X_orginal = np.array(dataset['Data'][i][0])\n",
    "    y = np.squeeze(dataset['labels'][i])\n",
    "    #resize\n",
    "    X_train = cv2.cvtColor(cv2.resize(X_orginal, dsize=(size, size)), cv2.COLOR_GRAY2RGB)\n",
    "    #reshape\n",
    "    # X_train = [x.reshape(size*size) for x in X_train_5by5]\n",
    "    # X_test = [x.reshape(size*size) for x in X_test_5by_5]\n",
    " \n",
    "    cv2.imwrite('hoda/train/' + str(y) + '/' + str(i) + '.jpg', X_train)\n",
    "   \n",
    "    if i % 1000 == 0:\n",
    "      print(i)"
   ]
  },
  {
   "cell_type": "markdown",
   "metadata": {
    "colab_type": "text",
    "id": "SujPayI7qxVy"
   },
   "source": [
    "# **loading the dataset to the folders**"
   ]
  },
  {
   "cell_type": "code",
   "execution_count": null,
   "metadata": {
    "colab": {
     "base_uri": "https://localhost:8080/",
     "height": 1119
    },
    "colab_type": "code",
    "id": "C4UY66rjCl--",
    "outputId": "7d7ba238-bd84-4748-e5f8-3a8259312688"
   },
   "outputs": [
    {
     "name": "stdout",
     "output_type": "stream",
     "text": [
      "0\n",
      "1000\n",
      "2000\n",
      "3000\n",
      "4000\n",
      "5000\n",
      "6000\n",
      "7000\n",
      "8000\n",
      "9000\n",
      "10000\n",
      "11000\n",
      "12000\n",
      "13000\n",
      "14000\n",
      "15000\n",
      "16000\n",
      "17000\n",
      "18000\n",
      "19000\n",
      "20000\n",
      "21000\n",
      "22000\n",
      "23000\n",
      "24000\n",
      "25000\n",
      "26000\n",
      "27000\n",
      "28000\n",
      "29000\n",
      "30000\n",
      "31000\n",
      "32000\n",
      "33000\n",
      "34000\n",
      "35000\n",
      "36000\n",
      "37000\n",
      "38000\n",
      "39000\n",
      "40000\n",
      "41000\n",
      "42000\n",
      "43000\n",
      "44000\n",
      "45000\n",
      "46000\n",
      "47000\n",
      "48000\n",
      "49000\n",
      "50000\n",
      "51000\n",
      "52000\n",
      "53000\n",
      "54000\n",
      "55000\n",
      "56000\n",
      "57000\n",
      "58000\n",
      "59000\n"
     ]
    }
   ],
   "source": [
    "load_hoda2(size=224)"
   ]
  },
  {
   "cell_type": "code",
   "execution_count": null,
   "metadata": {
    "colab": {},
    "colab_type": "code",
    "id": "b-_dFvTGntYQ"
   },
   "outputs": [],
   "source": [
    "def load_hoda3(size=5):\n",
    "\n",
    "\n",
    "  dataset = io.loadmat('TestHoda.mat')\n",
    "\n",
    "  for i in range(20000):\n",
    "    #test and training set\n",
    "    X_orginal = np.array(dataset['Data'][i][0])\n",
    "    y = np.squeeze(dataset['labels'][i])\n",
    "    #resize\n",
    "    X_train = cv2.cvtColor(cv2.resize(X_orginal, dsize=(size, size)), cv2.COLOR_GRAY2RGB)\n",
    "    #reshape\n",
    "    # X_train = [x.reshape(size*size) for x in X_train_5by5]\n",
    "    # X_test = [x.reshape(size*size) for x in X_test_5by_5]\n",
    "\n",
    "    cv2.imwrite('hoda/test/' + str(y) + '/' + str(i) + '.jpg', X_train)\n",
    "    if i % 1000 == 0:\n",
    "      print(i)"
   ]
  },
  {
   "cell_type": "code",
   "execution_count": null,
   "metadata": {
    "colab": {
     "base_uri": "https://localhost:8080/",
     "height": 380
    },
    "colab_type": "code",
    "id": "eRdKDJKDoSEP",
    "outputId": "2cc6478a-d524-42d4-9a42-3a9b98569f22"
   },
   "outputs": [
    {
     "name": "stdout",
     "output_type": "stream",
     "text": [
      "0\n",
      "1000\n",
      "2000\n",
      "3000\n",
      "4000\n",
      "5000\n",
      "6000\n",
      "7000\n",
      "8000\n",
      "9000\n",
      "10000\n",
      "11000\n",
      "12000\n",
      "13000\n",
      "14000\n",
      "15000\n",
      "16000\n",
      "17000\n",
      "18000\n",
      "19000\n"
     ]
    }
   ],
   "source": [
    "load_hoda3(size=224)"
   ]
  },
  {
   "cell_type": "markdown",
   "metadata": {
    "colab_type": "text",
    "id": "BfrH8o7Jq77r"
   },
   "source": [
    "# **VGGNet**\n",
    "importing the VGGNet with the pre-trained weights \n",
    "\n",
    "deleting the 1000 classes softmax "
   ]
  },
  {
   "cell_type": "code",
   "execution_count": null,
   "metadata": {
    "colab": {
     "base_uri": "https://localhost:8080/",
     "height": 313
    },
    "colab_type": "code",
    "id": "MQ41qoLTxhN9",
    "outputId": "b0589509-e0ee-44a3-f3eb-768abe4c4d03"
   },
   "outputs": [
    {
     "name": "stderr",
     "output_type": "stream",
     "text": [
      "WARNING: Logging before flag parsing goes to stderr.\n",
      "W0619 04:41:57.302377 140413439870848 deprecation_wrapper.py:119] From /usr/local/lib/python3.6/dist-packages/keras/backend/tensorflow_backend.py:74: The name tf.get_default_graph is deprecated. Please use tf.compat.v1.get_default_graph instead.\n",
      "\n",
      "W0619 04:41:57.420233 140413439870848 deprecation_wrapper.py:119] From /usr/local/lib/python3.6/dist-packages/keras/backend/tensorflow_backend.py:517: The name tf.placeholder is deprecated. Please use tf.compat.v1.placeholder instead.\n",
      "\n",
      "W0619 04:41:57.428512 140413439870848 deprecation_wrapper.py:119] From /usr/local/lib/python3.6/dist-packages/keras/backend/tensorflow_backend.py:4138: The name tf.random_uniform is deprecated. Please use tf.random.uniform instead.\n",
      "\n",
      "W0619 04:41:57.468239 140413439870848 deprecation_wrapper.py:119] From /usr/local/lib/python3.6/dist-packages/keras/backend/tensorflow_backend.py:3976: The name tf.nn.max_pool is deprecated. Please use tf.nn.max_pool2d instead.\n",
      "\n"
     ]
    },
    {
     "name": "stdout",
     "output_type": "stream",
     "text": [
      "Downloading data from https://github.com/fchollet/deep-learning-models/releases/download/v0.1/vgg16_weights_tf_dim_ordering_tf_kernels.h5\n",
      "553467904/553467096 [==============================] - 11s 0us/step\n"
     ]
    },
    {
     "name": "stderr",
     "output_type": "stream",
     "text": [
      "W0619 04:42:09.141309 140413439870848 deprecation_wrapper.py:119] From /usr/local/lib/python3.6/dist-packages/keras/backend/tensorflow_backend.py:174: The name tf.get_default_session is deprecated. Please use tf.compat.v1.get_default_session instead.\n",
      "\n",
      "W0619 04:42:09.142542 140413439870848 deprecation_wrapper.py:119] From /usr/local/lib/python3.6/dist-packages/keras/backend/tensorflow_backend.py:181: The name tf.ConfigProto is deprecated. Please use tf.compat.v1.ConfigProto instead.\n",
      "\n"
     ]
    }
   ],
   "source": [
    "conv_base = VGG16(weights='imagenet',\n",
    "                  include_top=True,\n",
    "                  input_shape=(224, 224, 3))\n",
    "\n",
    "from keras.models import Model, Input\n",
    "from keras.layers.convolutional import Conv2D, MaxPooling2D\n",
    "from keras.layers import Activation, Dense, Flatten, Dropout\n",
    "from keras.layers.normalization import BatchNormalization\n",
    "\n",
    "\n",
    "custom_model = Model(conv_base.inputs, conv_base.layers[-2].output)\n",
    "\n"
   ]
  },
  {
   "cell_type": "markdown",
   "metadata": {
    "colab_type": "text",
    "id": "1bv-dXRorMaj"
   },
   "source": [
    "# **starting Fine Tuning**\n",
    "\n",
    "freezing the GVVNet layers "
   ]
  },
  {
   "cell_type": "code",
   "execution_count": null,
   "metadata": {
    "colab": {
     "base_uri": "https://localhost:8080/",
     "height": 1927
    },
    "colab_type": "code",
    "id": "wdywPY5ANNwb",
    "outputId": "455d144e-a2f5-4fc3-85a4-0b02e93e9b96"
   },
   "outputs": [
    {
     "name": "stdout",
     "output_type": "stream",
     "text": [
      "_________________________________________________________________\n",
      "Layer (type)                 Output Shape              Param #   \n",
      "=================================================================\n",
      "input_1 (InputLayer)         (None, 224, 224, 3)       0         \n",
      "_________________________________________________________________\n",
      "block1_conv1 (Conv2D)        (None, 224, 224, 64)      1792      \n",
      "_________________________________________________________________\n",
      "block1_conv2 (Conv2D)        (None, 224, 224, 64)      36928     \n",
      "_________________________________________________________________\n",
      "block1_pool (MaxPooling2D)   (None, 112, 112, 64)      0         \n",
      "_________________________________________________________________\n",
      "block2_conv1 (Conv2D)        (None, 112, 112, 128)     73856     \n",
      "_________________________________________________________________\n",
      "block2_conv2 (Conv2D)        (None, 112, 112, 128)     147584    \n",
      "_________________________________________________________________\n",
      "block2_pool (MaxPooling2D)   (None, 56, 56, 128)       0         \n",
      "_________________________________________________________________\n",
      "block3_conv1 (Conv2D)        (None, 56, 56, 256)       295168    \n",
      "_________________________________________________________________\n",
      "block3_conv2 (Conv2D)        (None, 56, 56, 256)       590080    \n",
      "_________________________________________________________________\n",
      "block3_conv3 (Conv2D)        (None, 56, 56, 256)       590080    \n",
      "_________________________________________________________________\n",
      "block3_pool (MaxPooling2D)   (None, 28, 28, 256)       0         \n",
      "_________________________________________________________________\n",
      "block4_conv1 (Conv2D)        (None, 28, 28, 512)       1180160   \n",
      "_________________________________________________________________\n",
      "block4_conv2 (Conv2D)        (None, 28, 28, 512)       2359808   \n",
      "_________________________________________________________________\n",
      "block4_conv3 (Conv2D)        (None, 28, 28, 512)       2359808   \n",
      "_________________________________________________________________\n",
      "block4_pool (MaxPooling2D)   (None, 14, 14, 512)       0         \n",
      "_________________________________________________________________\n",
      "block5_conv1 (Conv2D)        (None, 14, 14, 512)       2359808   \n",
      "_________________________________________________________________\n",
      "block5_conv2 (Conv2D)        (None, 14, 14, 512)       2359808   \n",
      "_________________________________________________________________\n",
      "block5_conv3 (Conv2D)        (None, 14, 14, 512)       2359808   \n",
      "_________________________________________________________________\n",
      "block5_pool (MaxPooling2D)   (None, 7, 7, 512)         0         \n",
      "_________________________________________________________________\n",
      "flatten (Flatten)            (None, 25088)             0         \n",
      "_________________________________________________________________\n",
      "fc1 (Dense)                  (None, 4096)              102764544 \n",
      "_________________________________________________________________\n",
      "fc2 (Dense)                  (None, 4096)              16781312  \n",
      "=================================================================\n",
      "Total params: 134,260,544\n",
      "Trainable params: 0\n",
      "Non-trainable params: 134,260,544\n",
      "_________________________________________________________________\n",
      "_________________________________________________________________\n",
      "Layer (type)                 Output Shape              Param #   \n",
      "=================================================================\n",
      "input_1 (InputLayer)         (None, 224, 224, 3)       0         \n",
      "_________________________________________________________________\n",
      "block1_conv1 (Conv2D)        (None, 224, 224, 64)      1792      \n",
      "_________________________________________________________________\n",
      "block1_conv2 (Conv2D)        (None, 224, 224, 64)      36928     \n",
      "_________________________________________________________________\n",
      "block1_pool (MaxPooling2D)   (None, 112, 112, 64)      0         \n",
      "_________________________________________________________________\n",
      "block2_conv1 (Conv2D)        (None, 112, 112, 128)     73856     \n",
      "_________________________________________________________________\n",
      "block2_conv2 (Conv2D)        (None, 112, 112, 128)     147584    \n",
      "_________________________________________________________________\n",
      "block2_pool (MaxPooling2D)   (None, 56, 56, 128)       0         \n",
      "_________________________________________________________________\n",
      "block3_conv1 (Conv2D)        (None, 56, 56, 256)       295168    \n",
      "_________________________________________________________________\n",
      "block3_conv2 (Conv2D)        (None, 56, 56, 256)       590080    \n",
      "_________________________________________________________________\n",
      "block3_conv3 (Conv2D)        (None, 56, 56, 256)       590080    \n",
      "_________________________________________________________________\n",
      "block3_pool (MaxPooling2D)   (None, 28, 28, 256)       0         \n",
      "_________________________________________________________________\n",
      "block4_conv1 (Conv2D)        (None, 28, 28, 512)       1180160   \n",
      "_________________________________________________________________\n",
      "block4_conv2 (Conv2D)        (None, 28, 28, 512)       2359808   \n",
      "_________________________________________________________________\n",
      "block4_conv3 (Conv2D)        (None, 28, 28, 512)       2359808   \n",
      "_________________________________________________________________\n",
      "block4_pool (MaxPooling2D)   (None, 14, 14, 512)       0         \n",
      "_________________________________________________________________\n",
      "block5_conv1 (Conv2D)        (None, 14, 14, 512)       2359808   \n",
      "_________________________________________________________________\n",
      "block5_conv2 (Conv2D)        (None, 14, 14, 512)       2359808   \n",
      "_________________________________________________________________\n",
      "block5_conv3 (Conv2D)        (None, 14, 14, 512)       2359808   \n",
      "_________________________________________________________________\n",
      "block5_pool (MaxPooling2D)   (None, 7, 7, 512)         0         \n",
      "_________________________________________________________________\n",
      "flatten (Flatten)            (None, 25088)             0         \n",
      "_________________________________________________________________\n",
      "fc1 (Dense)                  (None, 4096)              102764544 \n",
      "_________________________________________________________________\n",
      "fc2 (Dense)                  (None, 4096)              16781312  \n",
      "_________________________________________________________________\n",
      "predictions (Dense)          (None, 1000)              4097000   \n",
      "=================================================================\n",
      "Total params: 138,357,544\n",
      "Trainable params: 138,357,544\n",
      "Non-trainable params: 0\n",
      "_________________________________________________________________\n"
     ]
    }
   ],
   "source": [
    "custom_model.trainable = False\n",
    "custom_model.summary()\n",
    "conv_base.summary()"
   ]
  },
  {
   "cell_type": "markdown",
   "metadata": {
    "colab_type": "text",
    "id": "nBa8MzAmrrGh"
   },
   "source": [
    "# **new softmax**\n",
    "\n",
    "adding a new 10 classes softmax to the freezed model"
   ]
  },
  {
   "cell_type": "code",
   "execution_count": null,
   "metadata": {
    "colab": {},
    "colab_type": "code",
    "id": "iSR2qz6eyRhH"
   },
   "outputs": [],
   "source": [
    "model_predictor = keras.models.Sequential()\n",
    "model_predictor.add(custom_model)\n",
    "model_predictor.add(layers.Dense(10, activation='softmax'))"
   ]
  },
  {
   "cell_type": "code",
   "execution_count": null,
   "metadata": {
    "colab": {
     "base_uri": "https://localhost:8080/",
     "height": 217
    },
    "colab_type": "code",
    "id": "Dk1XeJ4cc3Tm",
    "outputId": "62b85f2e-ba84-4e3f-efdb-fbe1936b9ac3"
   },
   "outputs": [
    {
     "name": "stdout",
     "output_type": "stream",
     "text": [
      "_________________________________________________________________\n",
      "Layer (type)                 Output Shape              Param #   \n",
      "=================================================================\n",
      "model_1 (Model)              (None, 4096)              134260544 \n",
      "_________________________________________________________________\n",
      "dense_1 (Dense)              (None, 10)                40970     \n",
      "=================================================================\n",
      "Total params: 134,301,514\n",
      "Trainable params: 40,970\n",
      "Non-trainable params: 134,260,544\n",
      "_________________________________________________________________\n"
     ]
    }
   ],
   "source": [
    "model_predictor.summary()"
   ]
  },
  {
   "cell_type": "code",
   "execution_count": null,
   "metadata": {
    "colab": {
     "base_uri": "https://localhost:8080/",
     "height": 171
    },
    "colab_type": "code",
    "id": "05hMgj3wHTnV",
    "outputId": "914f10c8-3375-4b14-a16d-e62d8ed256a7"
   },
   "outputs": [
    {
     "ename": "NameError",
     "evalue": "ignored",
     "output_type": "error",
     "traceback": [
      "\u001b[0;31m---------------------------------------------------------------------------\u001b[0m",
      "\u001b[0;31mNameError\u001b[0m                                 Traceback (most recent call last)",
      "\u001b[0;32m<ipython-input-10-94ce3f1d6027>\u001b[0m in \u001b[0;36m<module>\u001b[0;34m()\u001b[0m\n\u001b[0;32m----> 1\u001b[0;31m \u001b[0;32mdel\u001b[0m \u001b[0mhoda\u001b[0m\u001b[0;34m\u001b[0m\u001b[0;34m\u001b[0m\u001b[0m\n\u001b[0m",
      "\u001b[0;31mNameError\u001b[0m: name 'hoda' is not defined"
     ]
    }
   ],
   "source": [
    "del hoda"
   ]
  },
  {
   "cell_type": "markdown",
   "metadata": {
    "colab_type": "text",
    "id": "QjY96AuLr49K"
   },
   "source": [
    "loading the data set for test "
   ]
  },
  {
   "cell_type": "code",
   "execution_count": null,
   "metadata": {
    "colab": {},
    "colab_type": "code",
    "id": "bOQ4RBb_zUXk"
   },
   "outputs": [],
   "source": [
    "X_train, y_train, X_test, y_test = load_hoda(size=224)\n",
    "\n",
    "#y_train = keras.utils.to_categorical(y_train)\n",
    "#y_test = keras.utils.to_categorical(y_test)\n",
    "\n",
    "print(X_train.shape, y_train.shape, X_test.shape, y_test.shape)"
   ]
  },
  {
   "cell_type": "code",
   "execution_count": null,
   "metadata": {
    "colab": {},
    "colab_type": "code",
    "id": "tbANNkoJOMjP"
   },
   "outputs": [],
   "source": [
    "y_train = keras.utils.to_categorical(y_train)\n",
    "y_test = keras.utils.to_categorical(y_test)"
   ]
  },
  {
   "cell_type": "code",
   "execution_count": null,
   "metadata": {
    "colab": {},
    "colab_type": "code",
    "id": "UFzISQUY4Mav"
   },
   "outputs": [],
   "source": [
    "feature_train = custom_model.predict(X_train, verbose=1)\n",
    "#feature_test = custom_model.predict(X_test, verbose=1)"
   ]
  },
  {
   "cell_type": "code",
   "execution_count": null,
   "metadata": {
    "colab": {
     "base_uri": "https://localhost:8080/",
     "height": 35
    },
    "colab_type": "code",
    "id": "FsscpD0POei0",
    "outputId": "a87d6b03-9b0b-4383-aa77-093de63cebdb"
   },
   "outputs": [
    {
     "data": {
      "text/plain": [
       "(100, 4096)"
      ]
     },
     "execution_count": 58,
     "metadata": {
      "tags": []
     },
     "output_type": "execute_result"
    }
   ],
   "source": [
    "feature_train.shape"
   ]
  },
  {
   "cell_type": "markdown",
   "metadata": {
    "colab_type": "text",
    "id": "67Di3DvhvSpF"
   },
   "source": []
  },
  {
   "cell_type": "markdown",
   "metadata": {
    "colab_type": "text",
    "id": "WnYI37h_r_gi"
   },
   "source": [
    "# *start training the new soft max*"
   ]
  },
  {
   "cell_type": "code",
   "execution_count": null,
   "metadata": {
    "colab": {},
    "colab_type": "code",
    "id": "lhMx796E1xne"
   },
   "outputs": [],
   "source": [
    "model_predictor.compile(loss='categorical_crossentropy',\n",
    "              optimizer=keras.optimizers.RMSprop(lr=2e-3),\n",
    "              metrics=['acc'])"
   ]
  },
  {
   "cell_type": "code",
   "execution_count": null,
   "metadata": {
    "colab": {},
    "colab_type": "code",
    "id": "mD1IAacozgzB"
   },
   "outputs": [],
   "source": [
    "#history = model_predictor.fit(\n",
    "#      feature_train, y_train, batch_size=16,\n",
    "#      epochs=30,\n",
    "#      validation_data=(feature_test, y_test),\n",
    "#      verbose=1)"
   ]
  },
  {
   "cell_type": "code",
   "execution_count": null,
   "metadata": {
    "colab": {
     "base_uri": "https://localhost:8080/",
     "height": 1220
    },
    "colab_type": "code",
    "id": "z0N27pE9QIyc",
    "outputId": "4fdbdd36-c2df-41a1-b45a-71d7a511e408"
   },
   "outputs": [
    {
     "name": "stdout",
     "output_type": "stream",
     "text": [
      "WARNING:tensorflow:From /usr/local/lib/python3.6/dist-packages/tensorflow/python/ops/math_ops.py:3066: to_int32 (from tensorflow.python.ops.math_ops) is deprecated and will be removed in a future version.\n",
      "Instructions for updating:\n",
      "Use tf.cast instead.\n",
      "Train on 12000 samples, validate on 15000 samples\n",
      "Epoch 1/30\n",
      "12000/12000 [==============================] - 158s 13ms/step - loss: 2.2599 - acc: 0.7415 - val_loss: 1.8200 - val_acc: 0.8297\n",
      "Epoch 2/30\n",
      "12000/12000 [==============================] - 144s 12ms/step - loss: 1.7614 - acc: 0.8483 - val_loss: 1.6800 - val_acc: 0.8783\n",
      "Epoch 3/30\n",
      "12000/12000 [==============================] - 145s 12ms/step - loss: 1.7202 - acc: 0.8593 - val_loss: 1.6868 - val_acc: 0.8774\n",
      "Epoch 4/30\n",
      "12000/12000 [==============================] - 145s 12ms/step - loss: 1.6806 - acc: 0.8746 - val_loss: 1.6753 - val_acc: 0.8796\n",
      "Epoch 5/30\n",
      "12000/12000 [==============================] - 145s 12ms/step - loss: 1.6662 - acc: 0.8784 - val_loss: 1.6888 - val_acc: 0.8769\n",
      "Epoch 6/30\n",
      "12000/12000 [==============================] - 145s 12ms/step - loss: 1.6419 - acc: 0.8845 - val_loss: 1.7086 - val_acc: 0.8755\n",
      "Epoch 7/30\n",
      "12000/12000 [==============================] - 145s 12ms/step - loss: 1.6439 - acc: 0.8844 - val_loss: 1.6760 - val_acc: 0.8805\n",
      "Epoch 8/30\n",
      "12000/12000 [==============================] - 145s 12ms/step - loss: 1.6347 - acc: 0.8869 - val_loss: 1.6578 - val_acc: 0.8863\n",
      "Epoch 9/30\n",
      "12000/12000 [==============================] - 145s 12ms/step - loss: 1.6181 - acc: 0.8914 - val_loss: 1.7405 - val_acc: 0.8632\n",
      "Epoch 10/30\n",
      "12000/12000 [==============================] - 145s 12ms/step - loss: 1.6232 - acc: 0.8907 - val_loss: 1.6643 - val_acc: 0.8858\n",
      "Epoch 11/30\n",
      "12000/12000 [==============================] - 145s 12ms/step - loss: 1.6159 - acc: 0.8922 - val_loss: 1.6573 - val_acc: 0.8880\n",
      "Epoch 12/30\n",
      "12000/12000 [==============================] - 145s 12ms/step - loss: 1.6151 - acc: 0.8928 - val_loss: 1.6570 - val_acc: 0.8873\n",
      "Epoch 13/30\n",
      "12000/12000 [==============================] - 145s 12ms/step - loss: 1.6095 - acc: 0.8944 - val_loss: 1.6795 - val_acc: 0.8814\n",
      "Epoch 14/30\n",
      "12000/12000 [==============================] - 145s 12ms/step - loss: 1.6100 - acc: 0.8948 - val_loss: 1.6540 - val_acc: 0.8875\n",
      "Epoch 15/30\n",
      "12000/12000 [==============================] - 145s 12ms/step - loss: 1.6114 - acc: 0.8943 - val_loss: 1.6572 - val_acc: 0.8865\n",
      "Epoch 16/30\n",
      "12000/12000 [==============================] - 145s 12ms/step - loss: 1.5996 - acc: 0.8969 - val_loss: 1.6569 - val_acc: 0.8871\n",
      "Epoch 17/30\n",
      "12000/12000 [==============================] - 145s 12ms/step - loss: 1.6040 - acc: 0.8949 - val_loss: 1.7285 - val_acc: 0.8705\n",
      "Epoch 18/30\n",
      "12000/12000 [==============================] - 145s 12ms/step - loss: 1.6005 - acc: 0.8966 - val_loss: 1.6576 - val_acc: 0.8876\n",
      "Epoch 19/30\n",
      "12000/12000 [==============================] - 145s 12ms/step - loss: 1.6054 - acc: 0.8951 - val_loss: 1.6601 - val_acc: 0.8880\n",
      "Epoch 20/30\n",
      "12000/12000 [==============================] - 144s 12ms/step - loss: 1.5982 - acc: 0.8983 - val_loss: 1.6665 - val_acc: 0.8880\n",
      "Epoch 21/30\n",
      "12000/12000 [==============================] - 145s 12ms/step - loss: 1.5978 - acc: 0.8982 - val_loss: 1.7917 - val_acc: 0.8618\n",
      "Epoch 22/30\n",
      "12000/12000 [==============================] - 145s 12ms/step - loss: 1.5977 - acc: 0.8986 - val_loss: 1.6581 - val_acc: 0.8891\n",
      "Epoch 23/30\n",
      "12000/12000 [==============================] - 145s 12ms/step - loss: 1.6023 - acc: 0.8976 - val_loss: 1.6586 - val_acc: 0.8885\n",
      "Epoch 24/30\n",
      "12000/12000 [==============================] - 145s 12ms/step - loss: 1.5933 - acc: 0.8991 - val_loss: 1.6607 - val_acc: 0.8893\n",
      "Epoch 25/30\n",
      "12000/12000 [==============================] - 145s 12ms/step - loss: 1.5948 - acc: 0.8991 - val_loss: 1.6627 - val_acc: 0.8893\n",
      "Epoch 26/30\n",
      "12000/12000 [==============================] - 144s 12ms/step - loss: 1.5963 - acc: 0.8989 - val_loss: 1.6822 - val_acc: 0.8871\n",
      "Epoch 27/30\n",
      "12000/12000 [==============================] - 145s 12ms/step - loss: 1.5935 - acc: 0.8995 - val_loss: 1.6829 - val_acc: 0.8835\n",
      "Epoch 28/30\n",
      "12000/12000 [==============================] - 145s 12ms/step - loss: 1.5920 - acc: 0.9003 - val_loss: 1.6580 - val_acc: 0.8897\n",
      "Epoch 29/30\n",
      "12000/12000 [==============================] - 145s 12ms/step - loss: 1.5937 - acc: 0.8997 - val_loss: 1.6643 - val_acc: 0.8879\n",
      "Epoch 30/30\n",
      "12000/12000 [==============================] - 145s 12ms/step - loss: 1.5898 - acc: 0.9004 - val_loss: 1.8040 - val_acc: 0.8629\n"
     ]
    }
   ],
   "source": [
    "history = model_predictor.fit(\n",
    "     X_train, y_train, batch_size=160,\n",
    "     epochs=10,\n",
    "     validation_data=(X_test, y_test),\n",
    "     verbose=1)"
   ]
  },
  {
   "cell_type": "markdown",
   "metadata": {
    "colab_type": "text",
    "id": "NjFkFNujsNnz"
   },
   "source": [
    "# ploting the iterations"
   ]
  },
  {
   "cell_type": "code",
   "execution_count": null,
   "metadata": {
    "colab": {
     "base_uri": "https://localhost:8080/",
     "height": 545
    },
    "colab_type": "code",
    "id": "VEtVmr9PgCJY",
    "outputId": "b350a32f-98e4-4ce1-8a9b-1ccab8f7b98d"
   },
   "outputs": [
    {
     "data": {
      "image/png": "[encoded data removed]",
      "text/plain": [
       "<Figure size 432x288 with 1 Axes>"
      ]
     },
     "metadata": {
      "tags": []
     },
     "output_type": "display_data"
    },
    {
     "data": {
      "image/png": "[encoded data removed]",
      "text/plain": [
       "<Figure size 432x288 with 1 Axes>"
      ]
     },
     "metadata": {
      "tags": []
     },
     "output_type": "display_data"
    }
   ],
   "source": [
    "acc = history.history['acc']\n",
    "val_acc = history.history['val_acc']\n",
    "loss = history.history['loss']\n",
    "val_loss = history.history['val_loss']\n",
    "\n",
    "epochs = range(len(acc))\n",
    "\n",
    "plt.plot(epochs, acc, 'bo', label='Training acc')\n",
    "plt.plot(epochs, val_acc, 'b', label='Validation acc')\n",
    "plt.title('Training and validation accuracy')\n",
    "plt.legend()\n",
    "\n",
    "plt.figure()\n",
    "\n",
    "plt.plot(epochs, loss, 'bo', label='Training loss')\n",
    "plt.plot(epochs, val_loss, 'b', label='Validation loss')\n",
    "plt.title('Training and validation loss')\n",
    "plt.legend()\n",
    "\n",
    "plt.show()"
   ]
  },
  {
   "cell_type": "markdown",
   "metadata": {
    "colab_type": "text",
    "id": "fffbnZSTsYBJ"
   },
   "source": [
    "adding the new trained sofmax "
   ]
  },
  {
   "cell_type": "code",
   "execution_count": null,
   "metadata": {
    "colab": {
     "base_uri": "https://localhost:8080/",
     "height": 380
    },
    "colab_type": "code",
    "id": "KM-BgplW6gan",
    "outputId": "c7945cfb-617e-4df7-cc22-64d912eda98e"
   },
   "outputs": [
    {
     "name": "stdout",
     "output_type": "stream",
     "text": [
      "_________________________________________________________________\n",
      "Layer (type)                 Output Shape              Param #   \n",
      "=================================================================\n",
      "model_1 (Model)              (None, 4096)              134260544 \n",
      "_________________________________________________________________\n",
      "dense_1 (Dense)              (None, 10)                40970     \n",
      "=================================================================\n",
      "Total params: 134,301,514\n",
      "Trainable params: 40,970\n",
      "Non-trainable params: 134,260,544\n",
      "_________________________________________________________________\n",
      "_________________________________________________________________\n",
      "Layer (type)                 Output Shape              Param #   \n",
      "=================================================================\n",
      "sequential_1 (Sequential)    (None, 10)                134301514 \n",
      "=================================================================\n",
      "Total params: 134,301,514\n",
      "Trainable params: 40,970\n",
      "Non-trainable params: 134,260,544\n",
      "_________________________________________________________________\n"
     ]
    }
   ],
   "source": [
    "model = keras.models.Sequential()\n",
    "#model.add(custom_model)\n",
    "model.add(model_predictor)\n",
    "model_predictor.summary()\n",
    "model.summary()"
   ]
  },
  {
   "cell_type": "markdown",
   "metadata": {
    "colab_type": "text",
    "id": "z-1VESJBsfuL"
   },
   "source": [
    "# strat fine tuning the VGGNet \n",
    "\n",
    "unfreezing the network and make the parameters trainable"
   ]
  },
  {
   "cell_type": "code",
   "execution_count": null,
   "metadata": {
    "colab": {},
    "colab_type": "code",
    "id": "_ffPMCX_6tah"
   },
   "outputs": [],
   "source": [
    "custom_model.trainable = True\n",
    "\n",
    "#model.compile(loss='categorical_crossentropy',\n",
    "  #            optimizer=keras.optimizers.RMSprop(lr=2e-5),\n",
    "   #           metrics=['acc'])\n"
   ]
  },
  {
   "cell_type": "markdown",
   "metadata": {
    "colab_type": "text",
    "id": "5TFv4fHPszp7"
   },
   "source": [
    "# creating a generator \n",
    "\n",
    "to reduce the RAM usage , we created a generator to handle the number of training set and validation set  , also in this part we can apply the data augmentation "
   ]
  },
  {
   "cell_type": "code",
   "execution_count": null,
   "metadata": {
    "colab": {
     "base_uri": "https://localhost:8080/",
     "height": 1268
    },
    "colab_type": "code",
    "id": "cQmgBTFcINEv",
    "outputId": "7b6dfe5e-7510-48a5-8970-54aaf20d060b"
   },
   "outputs": [
    {
     "name": "stdout",
     "output_type": "stream",
     "text": [
      "Found 17828 images belonging to 10 classes.\n"
     ]
    },
    {
     "name": "stderr",
     "output_type": "stream",
     "text": [
      "W0619 04:42:15.347980 140413439870848 deprecation_wrapper.py:119] From /usr/local/lib/python3.6/dist-packages/keras/optimizers.py:790: The name tf.train.Optimizer is deprecated. Please use tf.compat.v1.train.Optimizer instead.\n",
      "\n"
     ]
    },
    {
     "name": "stdout",
     "output_type": "stream",
     "text": [
      "Found 42172 images belonging to 10 classes.\n"
     ]
    },
    {
     "name": "stderr",
     "output_type": "stream",
     "text": [
      "W0619 04:42:15.602812 140413439870848 deprecation.py:323] From /usr/local/lib/python3.6/dist-packages/tensorflow/python/ops/math_grad.py:1250: add_dispatch_support.<locals>.wrapper (from tensorflow.python.ops.array_ops) is deprecated and will be removed in a future version.\n",
      "Instructions for updating:\n",
      "Use tf.where in 2.0, which has the same broadcast rule as np.where\n"
     ]
    },
    {
     "name": "stdout",
     "output_type": "stream",
     "text": [
      "Epoch 1/30\n",
      "80/80 [==============================] - 84s 1s/step - loss: 0.7659 - acc: 0.7520 - val_loss: 0.0761 - val_acc: 0.9800\n",
      "Epoch 2/30\n",
      "80/80 [==============================] - 67s 839ms/step - loss: 0.0922 - acc: 0.9717 - val_loss: 0.0894 - val_acc: 0.9725\n",
      "Epoch 3/30\n",
      "80/80 [==============================] - 68s 848ms/step - loss: 0.0607 - acc: 0.9808 - val_loss: 0.0285 - val_acc: 0.9925\n",
      "Epoch 4/30\n",
      "80/80 [==============================] - 68s 848ms/step - loss: 0.0349 - acc: 0.9905 - val_loss: 0.0232 - val_acc: 0.9938\n",
      "Epoch 5/30\n",
      "80/80 [==============================] - 74s 921ms/step - loss: 0.0238 - acc: 0.9930 - val_loss: 0.0205 - val_acc: 0.9925\n",
      "Epoch 6/30\n",
      "80/80 [==============================] - 68s 845ms/step - loss: 0.0324 - acc: 0.9913 - val_loss: 0.0101 - val_acc: 0.9975\n",
      "Epoch 7/30\n",
      "80/80 [==============================] - 68s 845ms/step - loss: 0.0229 - acc: 0.9928 - val_loss: 0.0071 - val_acc: 0.9988\n",
      "Epoch 8/30\n",
      "80/80 [==============================] - 67s 839ms/step - loss: 0.0259 - acc: 0.9930 - val_loss: 0.0115 - val_acc: 0.9950\n",
      "Epoch 9/30\n",
      "80/80 [==============================] - 67s 837ms/step - loss: 0.0183 - acc: 0.9952 - val_loss: 0.0137 - val_acc: 0.9950\n",
      "Epoch 10/30\n",
      "80/80 [==============================] - 67s 834ms/step - loss: 0.0170 - acc: 0.9953 - val_loss: 0.0386 - val_acc: 0.9888\n",
      "Epoch 11/30\n",
      "80/80 [==============================] - 66s 829ms/step - loss: 0.0088 - acc: 0.9970 - val_loss: 0.0122 - val_acc: 0.9950\n",
      "Epoch 12/30\n",
      "80/80 [==============================] - 66s 827ms/step - loss: 0.0228 - acc: 0.9948 - val_loss: 0.0048 - val_acc: 0.9975\n",
      "Epoch 13/30\n",
      "80/80 [==============================] - 66s 829ms/step - loss: 0.0224 - acc: 0.9955 - val_loss: 0.0236 - val_acc: 0.9950\n",
      "Epoch 14/30\n",
      "80/80 [==============================] - 66s 823ms/step - loss: 0.0126 - acc: 0.9975 - val_loss: 0.0195 - val_acc: 0.9988\n",
      "Epoch 15/30\n",
      "80/80 [==============================] - 66s 824ms/step - loss: 0.0059 - acc: 0.9983 - val_loss: 0.0647 - val_acc: 0.9913\n",
      "Epoch 16/30\n",
      "80/80 [==============================] - 66s 825ms/step - loss: 0.0101 - acc: 0.9968 - val_loss: 0.0243 - val_acc: 0.9963\n",
      "Epoch 17/30\n",
      "80/80 [==============================] - 66s 824ms/step - loss: 0.0085 - acc: 0.9975 - val_loss: 0.0050 - val_acc: 0.9975\n",
      "Epoch 18/30\n",
      "80/80 [==============================] - 66s 819ms/step - loss: 0.0096 - acc: 0.9981 - val_loss: 0.0075 - val_acc: 0.9988\n",
      "Epoch 19/30\n",
      "80/80 [==============================] - 66s 824ms/step - loss: 0.0029 - acc: 0.9990 - val_loss: 0.0187 - val_acc: 0.9963\n",
      "Epoch 20/30\n",
      "80/80 [==============================] - 66s 823ms/step - loss: 0.0090 - acc: 0.9980 - val_loss: 0.0499 - val_acc: 0.9950\n",
      "Epoch 21/30\n",
      "80/80 [==============================] - 66s 822ms/step - loss: 0.0082 - acc: 0.9980 - val_loss: 0.0405 - val_acc: 0.9938\n",
      "Epoch 22/30\n",
      "80/80 [==============================] - 66s 821ms/step - loss: 0.0073 - acc: 0.9975 - val_loss: 0.0489 - val_acc: 0.9900\n",
      "Epoch 23/30\n",
      "80/80 [==============================] - 65s 817ms/step - loss: 0.0062 - acc: 0.9983 - val_loss: 0.0388 - val_acc: 0.9938\n",
      "Epoch 24/30\n",
      "80/80 [==============================] - 66s 819ms/step - loss: 0.0023 - acc: 0.9993 - val_loss: 0.0370 - val_acc: 0.9963\n",
      "Epoch 25/30\n",
      "80/80 [==============================] - 66s 821ms/step - loss: 0.0068 - acc: 0.9983 - val_loss: 0.0202 - val_acc: 0.9988\n",
      "Epoch 26/30\n",
      "80/80 [==============================] - 66s 820ms/step - loss: 0.0074 - acc: 0.9985 - val_loss: 0.0287 - val_acc: 0.9950\n",
      "Epoch 27/30\n",
      "80/80 [==============================] - 65s 815ms/step - loss: 0.0041 - acc: 0.9982 - val_loss: 0.0404 - val_acc: 0.9950\n",
      "Epoch 28/30\n",
      "80/80 [==============================] - 66s 819ms/step - loss: 2.1608e-05 - acc: 1.0000 - val_loss: 0.0611 - val_acc: 0.9913\n",
      "Epoch 29/30\n",
      "80/80 [==============================] - 65s 818ms/step - loss: 0.0034 - acc: 0.9990 - val_loss: 0.0394 - val_acc: 0.9925\n",
      "Epoch 30/30\n",
      "80/80 [==============================] - 65s 818ms/step - loss: 0.0048 - acc: 0.9988 - val_loss: 0.0243 - val_acc: 0.9963\n"
     ]
    }
   ],
   "source": [
    "from keras.preprocessing.image import ImageDataGenerator\n",
    "\n",
    "train_datagen = ImageDataGenerator(\n",
    "      rescale=1./255,\n",
    "    #  rotation_range=45,\n",
    "      fill_mode='nearest')\n",
    "\n",
    "# Note that the validation data should not be augmented!\n",
    "test_datagen = ImageDataGenerator(rescale=1./255, \n",
    "      #rotation_range=45,\n",
    "      fill_mode='nearest')\n",
    "\n",
    "train_generator = train_datagen.flow_from_directory(\n",
    "        # This is the target directory\n",
    "        'hoda/train',\n",
    "        # All images will be resized to 150x150\n",
    "        target_size=(224, 224),\n",
    "        batch_size=50,\n",
    "        # Since we use binary_crossentropy loss, we need binary labels\n",
    "        class_mode='categorical')\n",
    "\n",
    "validation_generator = test_datagen.flow_from_directory(\n",
    "        'hoda/test',\n",
    "        target_size=(224, 224),\n",
    "        batch_size=40,\n",
    "        class_mode='categorical')\n",
    "\n",
    "model_predictor.compile(loss='categorical_crossentropy',\n",
    "              optimizer=optimizers.RMSprop(lr=2e-5),\n",
    "              metrics=['acc'])\n",
    "\n",
    "history = model_predictor.fit_generator(\n",
    "      train_generator,\n",
    "      steps_per_epoch=80,\n",
    "      epochs=30,\n",
    "      validation_data=validation_generator,\n",
    "      validation_steps=20)"
   ]
  },
  {
   "cell_type": "code",
   "execution_count": null,
   "metadata": {
    "colab": {},
    "colab_type": "code",
    "id": "4HVNZ-KpU2Ji"
   },
   "outputs": [],
   "source": []
  },
  {
   "cell_type": "code",
   "execution_count": null,
   "metadata": {
    "colab": {},
    "colab_type": "code",
    "id": "7zxUKXq6i3Li"
   },
   "outputs": [],
   "source": [
    "model_predictor.save_weights('model.h5')\n"
   ]
  },
  {
   "cell_type": "markdown",
   "metadata": {
    "colab_type": "text",
    "id": "H4AyEXX0tZYr"
   },
   "source": [
    "# fine tuning the network without considering RAM space "
   ]
  },
  {
   "cell_type": "code",
   "execution_count": null,
   "metadata": {
    "colab": {},
    "colab_type": "code",
    "id": "XkckcnL5CiI3"
   },
   "outputs": [],
   "source": [
    "model.compile(loss='categorical_crossentropy',\n",
    "              optimizer=keras.optimizers.RMSprop(lr=2e-5),\n",
    "              metrics=['acc'])"
   ]
  },
  {
   "cell_type": "code",
   "execution_count": null,
   "metadata": {
    "colab": {
     "base_uri": "https://localhost:8080/",
     "height": 1145
    },
    "colab_type": "code",
    "id": "wd9paRvd6yVx",
    "outputId": "85ec47d2-51ca-4ad5-e456-107df933873b"
   },
   "outputs": [
    {
     "name": "stdout",
     "output_type": "stream",
     "text": [
      "Train on 1500 samples, validate on 500 samples\n",
      "Epoch 1/30\n",
      "1500/1500 [==============================] - 49s 32ms/step - loss: 8.6173 - acc: 0.4027 - val_loss: 3.0890 - val_acc: 0.5040\n",
      "Epoch 2/30\n",
      "1500/1500 [==============================] - 29s 19ms/step - loss: 0.5624 - acc: 0.8840 - val_loss: 0.1011 - val_acc: 0.9760\n",
      "Epoch 3/30\n",
      "1500/1500 [==============================] - 29s 20ms/step - loss: 0.0184 - acc: 0.9987 - val_loss: 0.1006 - val_acc: 0.9720\n",
      "Epoch 4/30\n",
      "1500/1500 [==============================] - 29s 19ms/step - loss: 0.0049 - acc: 1.0000 - val_loss: 0.0887 - val_acc: 0.9760\n",
      "Epoch 5/30\n",
      "1500/1500 [==============================] - 29s 19ms/step - loss: 0.0014 - acc: 1.0000 - val_loss: 0.0888 - val_acc: 0.9740\n",
      "Epoch 6/30\n",
      "1500/1500 [==============================] - 30s 20ms/step - loss: 6.2185e-04 - acc: 1.0000 - val_loss: 0.0913 - val_acc: 0.9700\n",
      "Epoch 7/30\n",
      "1500/1500 [==============================] - 30s 20ms/step - loss: 3.0529e-04 - acc: 1.0000 - val_loss: 0.0867 - val_acc: 0.9760\n",
      "Epoch 8/30\n",
      "1500/1500 [==============================] - 29s 19ms/step - loss: 1.4229e-04 - acc: 1.0000 - val_loss: 0.0926 - val_acc: 0.9760\n",
      "Epoch 9/30\n",
      "1500/1500 [==============================] - 29s 19ms/step - loss: 7.1019e-05 - acc: 1.0000 - val_loss: 0.0934 - val_acc: 0.9740\n",
      "Epoch 10/30\n",
      "1500/1500 [==============================] - 29s 19ms/step - loss: 3.6743e-05 - acc: 1.0000 - val_loss: 0.0933 - val_acc: 0.9760\n",
      "Epoch 11/30\n",
      "1500/1500 [==============================] - 29s 19ms/step - loss: 1.9307e-05 - acc: 1.0000 - val_loss: 0.0981 - val_acc: 0.9760\n",
      "Epoch 12/30\n",
      "1500/1500 [==============================] - 28s 19ms/step - loss: 1.0206e-05 - acc: 1.0000 - val_loss: 0.0986 - val_acc: 0.9760\n",
      "Epoch 13/30\n",
      "1500/1500 [==============================] - 30s 20ms/step - loss: 5.4849e-06 - acc: 1.0000 - val_loss: 0.0996 - val_acc: 0.9740\n",
      "Epoch 14/30\n",
      "1500/1500 [==============================] - 28s 19ms/step - loss: 2.9998e-06 - acc: 1.0000 - val_loss: 0.0998 - val_acc: 0.9780\n",
      "Epoch 15/30\n",
      "1500/1500 [==============================] - 28s 19ms/step - loss: 1.7793e-06 - acc: 1.0000 - val_loss: 0.1014 - val_acc: 0.9780\n",
      "Epoch 16/30\n",
      "1500/1500 [==============================] - 29s 19ms/step - loss: 1.0574e-06 - acc: 1.0000 - val_loss: 0.1004 - val_acc: 0.9800\n",
      "Epoch 17/30\n",
      "1500/1500 [==============================] - 29s 19ms/step - loss: 6.4520e-07 - acc: 1.0000 - val_loss: 0.1021 - val_acc: 0.9800\n",
      "Epoch 18/30\n",
      "1500/1500 [==============================] - 29s 19ms/step - loss: 4.1910e-07 - acc: 1.0000 - val_loss: 0.1032 - val_acc: 0.9800\n",
      "Epoch 19/30\n",
      "1500/1500 [==============================] - 28s 19ms/step - loss: 2.9894e-07 - acc: 1.0000 - val_loss: 0.1035 - val_acc: 0.9800\n",
      "Epoch 20/30\n",
      "1500/1500 [==============================] - 28s 19ms/step - loss: 2.2411e-07 - acc: 1.0000 - val_loss: 0.1046 - val_acc: 0.9800\n",
      "Epoch 21/30\n",
      "1500/1500 [==============================] - 28s 18ms/step - loss: 1.8072e-07 - acc: 1.0000 - val_loss: 0.1006 - val_acc: 0.9800\n",
      "Epoch 22/30\n",
      "1500/1500 [==============================] - 28s 18ms/step - loss: 1.5493e-07 - acc: 1.0000 - val_loss: 0.1048 - val_acc: 0.9800\n",
      "Epoch 23/30\n",
      "1500/1500 [==============================] - 28s 18ms/step - loss: 1.3955e-07 - acc: 1.0000 - val_loss: 0.1053 - val_acc: 0.9800\n",
      "Epoch 24/30\n",
      "1500/1500 [==============================] - 27s 18ms/step - loss: 1.3101e-07 - acc: 1.0000 - val_loss: 0.1068 - val_acc: 0.9800\n",
      "Epoch 25/30\n",
      "1500/1500 [==============================] - 28s 19ms/step - loss: 1.2608e-07 - acc: 1.0000 - val_loss: 0.1061 - val_acc: 0.9800\n",
      "Epoch 26/30\n",
      "1500/1500 [==============================] - 27s 18ms/step - loss: 1.2302e-07 - acc: 1.0000 - val_loss: 0.1062 - val_acc: 0.9820\n",
      "Epoch 27/30\n",
      "1500/1500 [==============================] - 28s 19ms/step - loss: 1.2128e-07 - acc: 1.0000 - val_loss: 0.1064 - val_acc: 0.9820\n",
      "Epoch 28/30\n",
      "1500/1500 [==============================] - 27s 18ms/step - loss: 1.2052e-07 - acc: 1.0000 - val_loss: 0.1079 - val_acc: 0.9800\n",
      "Epoch 29/30\n",
      "1500/1500 [==============================] - 27s 18ms/step - loss: 1.1996e-07 - acc: 1.0000 - val_loss: 0.1087 - val_acc: 0.9800\n",
      "Epoch 30/30\n",
      "1500/1500 [==============================] - 26s 18ms/step - loss: 1.1949e-07 - acc: 1.0000 - val_loss: 0.1082 - val_acc: 0.9820\n"
     ]
    }
   ],
   "source": [
    "history = model.fit(\n",
    "      X_train, y_train, batch_size=160,\n",
    "      epochs=30,\n",
    "      validation_data=(X_test, y_test),\n",
    "      verbose=1)"
   ]
  },
  {
   "cell_type": "markdown",
   "metadata": {
    "colab_type": "text",
    "id": "VkjCNzDatjxm"
   },
   "source": [
    "# ploting the iterations "
   ]
  },
  {
   "cell_type": "code",
   "execution_count": null,
   "metadata": {
    "colab": {
     "base_uri": "https://localhost:8080/",
     "height": 545
    },
    "colab_type": "code",
    "id": "WATwvK-_9Aow",
    "outputId": "88acfa86-d4d8-473e-fa11-69c9b3aa08cc"
   },
   "outputs": [
    {
     "data": {
      "image/png": "[encoded data removed]",
      "text/plain": [
       "<Figure size 432x288 with 1 Axes>"
      ]
     },
     "metadata": {
      "tags": []
     },
     "output_type": "display_data"
    },
    {
     "data": {
      "image/png": "[encoded data removed]",
      "text/plain": [
       "<Figure size 432x288 with 1 Axes>"
      ]
     },
     "metadata": {
      "tags": []
     },
     "output_type": "display_data"
    }
   ],
   "source": [
    "acc = history.history['acc']\n",
    "val_acc = history.history['val_acc']\n",
    "loss = history.history['loss']\n",
    "val_loss = history.history['val_loss']\n",
    "\n",
    "epochs = range(len(acc))\n",
    "\n",
    "plt.plot(epochs, acc, 'bo', label='Training acc')\n",
    "plt.plot(epochs, val_acc, 'b', label='Validation acc')\n",
    "plt.title('Training and validation accuracy')\n",
    "plt.legend()\n",
    "\n",
    "plt.figure()\n",
    "\n",
    "plt.plot(epochs, loss, 'bo', label='Training loss')\n",
    "plt.plot(epochs, val_loss, 'b', label='Validation loss')\n",
    "plt.title('Training and validation loss')\n",
    "plt.legend()\n",
    "\n",
    "plt.show()"
   ]
  },
  {
   "cell_type": "markdown",
   "metadata": {
    "colab_type": "text",
    "id": "wernnv9atosu"
   },
   "source": [
    "# SVM \n",
    "\n",
    "importing and training the SVM "
   ]
  },
  {
   "cell_type": "code",
   "execution_count": null,
   "metadata": {
    "colab": {
     "base_uri": "https://localhost:8080/",
     "height": 1505
    },
    "colab_type": "code",
    "id": "ZKl9C57gvQm1",
    "outputId": "96a36e3c-fafd-4676-995e-006e08899069"
   },
   "outputs": [
    {
     "name": "stdout",
     "output_type": "stream",
     "text": [
      "0\n",
      "1\n",
      "2\n",
      "3\n",
      "4\n",
      "5\n",
      "6\n",
      "7\n",
      "8\n",
      "9\n",
      "10\n",
      "11\n",
      "12\n",
      "13\n",
      "14\n",
      "15\n",
      "16\n",
      "17\n",
      "18\n",
      "19\n",
      "20\n",
      "21\n",
      "22\n",
      "23\n",
      "24\n",
      "25\n",
      "26\n",
      "27\n",
      "28\n",
      "29\n",
      "30\n",
      "31\n",
      "32\n",
      "33\n",
      "34\n",
      "35\n",
      "36\n",
      "37\n",
      "38\n",
      "39\n",
      "40\n",
      "41\n",
      "42\n",
      "43\n",
      "44\n",
      "45\n",
      "46\n",
      "47\n",
      "48\n",
      "49\n",
      "50\n",
      "51\n",
      "52\n",
      "53\n",
      "54\n",
      "55\n",
      "56\n",
      "57\n",
      "58\n",
      "59\n",
      "60\n",
      "61\n",
      "62\n",
      "63\n",
      "64\n",
      "65\n",
      "66\n",
      "67\n",
      "68\n",
      "69\n",
      "70\n",
      "71\n",
      "72\n",
      "73\n",
      "74\n",
      "75\n",
      "76\n",
      "77\n",
      "78\n",
      "79\n",
      "(4000, 4096) (4000, 10)\n"
     ]
    }
   ],
   "source": [
    "n_samples = 4 *1000\n",
    "\n",
    "feature_train = np.zeros((n_samples, 4096))\n",
    "y_train = np.zeros((n_samples, 10))\n",
    "for i in range(n_samples // 50):\n",
    "  print(i)\n",
    "  batch = train_generator.next()\n",
    "#   print(batch[0].shape, batch[1].shape)\n",
    "  feature_batch = custom_model.predict(batch[0])\n",
    "  \n",
    "  feature_train[i * 50 : i * 50 + 50, :] = feature_batch\n",
    "  y_train[i * 50 : i * 50 + 50, :] = batch[1]\n",
    "\n",
    "feature_train = np.array(feature_train)\n",
    "y_train = np.array(y_train)\n",
    "print(feature_train.shape, y_train.shape)"
   ]
  },
  {
   "cell_type": "code",
   "execution_count": null,
   "metadata": {
    "colab": {
     "base_uri": "https://localhost:8080/",
     "height": 35
    },
    "colab_type": "code",
    "id": "R3ALcTR50Bmr",
    "outputId": "7f97e8fc-d78c-4d12-cc22-a704a1453add"
   },
   "outputs": [
    {
     "name": "stdout",
     "output_type": "stream",
     "text": [
      "(4000, 150)\n"
     ]
    }
   ],
   "source": [
    "from sklearn.decomposition import PCA\n",
    "\n",
    "pca = PCA(n_components = 150) \n",
    "  \n",
    "feature_train_PCA_50 = pca.fit_transform(feature_train)\n",
    "\n",
    "print(feature_train_PCA_50.shape)"
   ]
  },
  {
   "cell_type": "code",
   "execution_count": null,
   "metadata": {
    "colab": {
     "base_uri": "https://localhost:8080/",
     "height": 109
    },
    "colab_type": "code",
    "id": "7JAN2ImLfLRM",
    "outputId": "8741959c-8b99-4de5-ab4d-4fda1f906eb8"
   },
   "outputs": [
    {
     "name": "stdout",
     "output_type": "stream",
     "text": [
      "(4000, 10)\n"
     ]
    },
    {
     "data": {
      "text/plain": [
       "SVC(C=1.0, cache_size=200, class_weight=None, coef0=0.0,\n",
       "    decision_function_shape='ovo', degree=3, gamma='scale', kernel='rbf',\n",
       "    max_iter=-1, probability=False, random_state=None, shrinking=True,\n",
       "    tol=0.001, verbose=False)"
      ]
     },
     "execution_count": 16,
     "metadata": {
      "tags": []
     },
     "output_type": "execute_result"
    }
   ],
   "source": [
    "from sklearn import svm\n",
    "\n",
    "print(y_train.shape)\n",
    "clf = svm.SVC(gamma='scale', decision_function_shape='ovo')\n",
    "clf.fit(feature_train_PCA_50, np.argmax(y_train, axis=1))\n",
    "#clf.fit(feature_train, np.argmax(y_train, axis=1))"
   ]
  },
  {
   "cell_type": "code",
   "execution_count": null,
   "metadata": {
    "colab": {},
    "colab_type": "code",
    "id": "g_ebNrhWAlAe"
   },
   "outputs": [],
   "source": [
    "def CNN_PCA_SVM_predict(X):\n",
    "  feature = custom_model.predict(X)\n",
    "  feature_PCA_50 = pca.transform(feature)\n",
    "  predict = clf.predict(feature_PCA_50)\n",
    "  return predict"
   ]
  },
  {
   "cell_type": "code",
   "execution_count": null,
   "metadata": {
    "colab": {},
    "colab_type": "code",
    "id": "NAz8GOfC1yBf"
   },
   "outputs": [],
   "source": [
    "def CNN_SVM_predict(X):\n",
    "  feature = custom_model.predict(X)\n",
    "  predict = clf.predict(feature)\n",
    "  return predict"
   ]
  },
  {
   "cell_type": "markdown",
   "metadata": {
    "colab_type": "text",
    "id": "01_pD5Wht0Eq"
   },
   "source": [
    "# experimental results "
   ]
  },
  {
   "cell_type": "code",
   "execution_count": null,
   "metadata": {
    "colab": {
     "base_uri": "https://localhost:8080/",
     "height": 1137
    },
    "colab_type": "code",
    "id": "YHLAuAFeBAn8",
    "outputId": "2a391173-f27a-4b28-c454-cf8c54f92ebd"
   },
   "outputs": [
    {
     "name": "stdout",
     "output_type": "stream",
     "text": [
      "0 -> 1.0\n",
      "1 -> 1.0\n",
      "2 -> 1.0\n",
      "3 -> 0.95\n",
      "4 -> 1.0\n",
      "5 -> 1.0\n",
      "6 -> 1.0\n",
      "7 -> 1.0\n",
      "8 -> 1.0\n",
      "9 -> 1.0\n",
      "10 -> 1.0\n",
      "11 -> 1.0\n",
      "12 -> 1.0\n",
      "13 -> 1.0\n",
      "14 -> 1.0\n",
      "15 -> 1.0\n",
      "16 -> 1.0\n",
      "17 -> 1.0\n",
      "18 -> 1.0\n",
      "19 -> 1.0\n",
      "20 -> 1.0\n",
      "21 -> 1.0\n",
      "22 -> 1.0\n",
      "23 -> 0.975\n",
      "24 -> 1.0\n",
      "25 -> 1.0\n",
      "26 -> 0.975\n",
      "27 -> 0.975\n",
      "28 -> 1.0\n",
      "29 -> 1.0\n",
      "30 -> 1.0\n",
      "31 -> 1.0\n",
      "32 -> 1.0\n",
      "33 -> 0.975\n",
      "34 -> 1.0\n",
      "35 -> 1.0\n",
      "36 -> 1.0\n",
      "37 -> 1.0\n",
      "38 -> 1.0\n",
      "39 -> 0.975\n",
      "40 -> 1.0\n",
      "41 -> 1.0\n",
      "42 -> 1.0\n",
      "43 -> 1.0\n",
      "44 -> 1.0\n",
      "45 -> 1.0\n",
      "46 -> 1.0\n",
      "47 -> 0.975\n",
      "48 -> 0.975\n",
      "49 -> 1.0\n",
      "0.9955000000000002\n",
      "[[215.   0.   0.   0.   0.   0.   0.   0.   0.   0.]\n",
      " [  0. 178.   0.   0.   0.   0.   0.   0.   0.   0.]\n",
      " [  0.   0. 187.   2.   0.   0.   0.   0.   0.   0.]\n",
      " [  0.   0.   5. 200.   1.   0.   0.   0.   0.   0.]\n",
      " [  0.   0.   0.   0. 202.   0.   0.   0.   0.   0.]\n",
      " [  0.   0.   0.   0.   0. 193.   0.   0.   0.   0.]\n",
      " [  0.   0.   0.   0.   0.   0. 193.   0.   0.   0.]\n",
      " [  0.   0.   0.   0.   0.   0.   1. 202.   0.   0.]\n",
      " [  0.   0.   0.   0.   0.   0.   0.   0. 197.   0.]\n",
      " [  0.   0.   0.   0.   0.   0.   0.   0.   0. 224.]]\n"
     ]
    }
   ],
   "source": [
    "n_samples = 2 * 1000\n",
    "\n",
    "accs = []\n",
    "\n",
    "confusion_matrix = np.zeros((10, 10))\n",
    "\n",
    "errors = []\n",
    "error_lable = []\n",
    "\n",
    "for i in range(n_samples // 40):\n",
    "  print(i, end=\" -> \")\n",
    "  batch = validation_generator.next()\n",
    "#   print(batch[0].shape, batch[1].shape)\n",
    "  pred_test = CNN_PCA_SVM_predict(batch[0])\n",
    "  \n",
    "  for j in range(batch[1].shape[0]):\n",
    "    \n",
    "    true_lable = np.argmax(batch[1][j])    \n",
    "    confusion_matrix[true_lable, pred_test[j]] += 1\n",
    "    \n",
    "    if true_lable != pred_test[j]:\n",
    "      errors.append(batch[0][j])\n",
    "      error_lable.append((true_lable, pred_test[j]))\n",
    "  \n",
    "  accs.append(np.mean((np.argmax(batch[1], axis=1) == pred_test)))\n",
    "  print(accs[-1])\n",
    "\n",
    "print(sum(accs) / len(accs))\n",
    "print(confusion_matrix)\n",
    "# feature_train = np.array(feature_train)\n",
    "# y_train = np.array(y_train)\n",
    "# print(feature_train.shape, y_train.shape)\n",
    "\n",
    "# pred_test = CNN_SVM_predict(X_test)\n",
    "# print(pred_test)\n",
    "# #print (np.argmax(y_test, axis=1))\n",
    "# print('the accuracy is : ' , np.mean((np.argmax(y_test, axis=1) == pred_test)))\n",
    "# #print((np.argmax(y_test, axis=1) == pred_test))"
   ]
  },
  {
   "cell_type": "code",
   "execution_count": null,
   "metadata": {
    "colab": {},
    "colab_type": "code",
    "id": "TCs0TRlMJRAx"
   },
   "outputs": [],
   "source": [
    "model_predictor.save('model.h5')"
   ]
  },
  {
   "cell_type": "markdown",
   "metadata": {
    "colab_type": "text",
    "id": "vjQR6Grnt4fi"
   },
   "source": [
    "# Confusion matrix "
   ]
  },
  {
   "cell_type": "code",
   "execution_count": null,
   "metadata": {
    "colab": {},
    "colab_type": "code",
    "id": "X5LyQOgupDeU"
   },
   "outputs": [],
   "source": [
    "y_train_onehot = keras.utils.to_categorical(y_train)\n",
    "y_train = np.argmax(y_train_onehot, axis=-1)\n"
   ]
  },
  {
   "cell_type": "code",
   "execution_count": null,
   "metadata": {
    "colab": {
     "base_uri": "https://localhost:8080/",
     "height": 219
    },
    "colab_type": "code",
    "id": "MU2bYJ3pxAqU",
    "outputId": "276631bd-f93b-4d1e-d330-85503202409f"
   },
   "outputs": [
    {
     "name": "stdout",
     "output_type": "stream",
     "text": [
      "Confusion matrix:\n",
      "[[494   0   0   0   0   0   0   0   0   0]\n",
      " [  0 476   0   0   0   0   0   0   0   0]\n",
      " [  0   0 514   0   0   0   0   0   0   0]\n",
      " [  0   0   0 498   1   0   0   0   0   0]\n",
      " [  0   0   0   0 529   0   0   0   0   0]\n",
      " [  0   0   0   0   0 488   0   0   0   0]\n",
      " [  0   0   0   0   0   0 489   0   0   1]\n",
      " [  0   0   0   0   0   0   0 516   0   0]\n",
      " [  0   0   0   0   0   0   0   0 486   0]\n",
      " [  1   0   0   0   0   0   1   0   0 506]]\n"
     ]
    }
   ],
   "source": [
    "from sklearn import metrics\n",
    "from sklearn.metrics import confusion_matrix \n",
    "#confusion_matrix(y_test,pred_test)\n",
    "#print(np.array(y_test))\n",
    "print(\"Confusion matrix:\\n%s\" % metrics.confusion_matrix(y_test, pred_test))"
   ]
  },
  {
   "cell_type": "code",
   "execution_count": null,
   "metadata": {
    "colab": {
     "base_uri": "https://localhost:8080/",
     "height": 913
    },
    "colab_type": "code",
    "id": "6B1OJHtJ4At1",
    "outputId": "39569e89-5629-487b-d7d3-7fa647ada777"
   },
   "outputs": [
    {
     "name": "stdout",
     "output_type": "stream",
     "text": [
      "0\n",
      "1\n",
      "2\n",
      "3\n",
      "4\n",
      "5\n",
      "6\n",
      "7\n",
      "8\n",
      "9\n",
      "10\n",
      "11\n",
      "12\n",
      "13\n",
      "14\n",
      "15\n",
      "16\n",
      "17\n",
      "18\n",
      "19\n",
      "20\n",
      "21\n",
      "22\n",
      "23\n",
      "24\n",
      "25\n",
      "26\n",
      "27\n"
     ]
    },
    {
     "ename": "KeyboardInterrupt",
     "evalue": "ignored",
     "output_type": "error",
     "traceback": [
      "\u001b[0;31m---------------------------------------------------------------------------\u001b[0m",
      "\u001b[0;31mKeyboardInterrupt\u001b[0m                         Traceback (most recent call last)",
      "\u001b[0;32m<ipython-input-68-b680a630be7a>\u001b[0m in \u001b[0;36m<module>\u001b[0;34m()\u001b[0m\n\u001b[1;32m      9\u001b[0m   \u001b[0mprint\u001b[0m\u001b[0;34m(\u001b[0m\u001b[0mi\u001b[0m\u001b[0;34m)\u001b[0m\u001b[0;34m\u001b[0m\u001b[0;34m\u001b[0m\u001b[0m\n\u001b[1;32m     10\u001b[0m   \u001b[0mbatch\u001b[0m \u001b[0;34m=\u001b[0m \u001b[0mvalidation_generator\u001b[0m\u001b[0;34m.\u001b[0m\u001b[0mnext\u001b[0m\u001b[0;34m(\u001b[0m\u001b[0;34m)\u001b[0m\u001b[0;34m\u001b[0m\u001b[0;34m\u001b[0m\u001b[0m\n\u001b[0;32m---> 11\u001b[0;31m   \u001b[0mpred_test\u001b[0m \u001b[0;34m=\u001b[0m \u001b[0mCNN_PCA_SVM_predict\u001b[0m\u001b[0;34m(\u001b[0m\u001b[0mbatch\u001b[0m\u001b[0;34m[\u001b[0m\u001b[0;36m0\u001b[0m\u001b[0;34m]\u001b[0m\u001b[0;34m)\u001b[0m\u001b[0;34m\u001b[0m\u001b[0;34m\u001b[0m\u001b[0m\n\u001b[0m\u001b[1;32m     12\u001b[0m \u001b[0;34m\u001b[0m\u001b[0m\n\u001b[1;32m     13\u001b[0m   \u001b[0;32mfor\u001b[0m \u001b[0mj\u001b[0m \u001b[0;32min\u001b[0m \u001b[0mrange\u001b[0m\u001b[0;34m(\u001b[0m\u001b[0mbatch\u001b[0m\u001b[0;34m[\u001b[0m\u001b[0;36m1\u001b[0m\u001b[0;34m]\u001b[0m\u001b[0;34m.\u001b[0m\u001b[0mshape\u001b[0m\u001b[0;34m[\u001b[0m\u001b[0;36m0\u001b[0m\u001b[0;34m]\u001b[0m\u001b[0;34m)\u001b[0m\u001b[0;34m:\u001b[0m\u001b[0;34m\u001b[0m\u001b[0;34m\u001b[0m\u001b[0m\n",
      "\u001b[0;32m<ipython-input-36-998f20abd636>\u001b[0m in \u001b[0;36mCNN_PCA_SVM_predict\u001b[0;34m(X)\u001b[0m\n\u001b[1;32m      1\u001b[0m \u001b[0;32mdef\u001b[0m \u001b[0mCNN_PCA_SVM_predict\u001b[0m\u001b[0;34m(\u001b[0m\u001b[0mX\u001b[0m\u001b[0;34m)\u001b[0m\u001b[0;34m:\u001b[0m\u001b[0;34m\u001b[0m\u001b[0;34m\u001b[0m\u001b[0m\n\u001b[0;32m----> 2\u001b[0;31m   \u001b[0mfeature\u001b[0m \u001b[0;34m=\u001b[0m \u001b[0mcustom_model\u001b[0m\u001b[0;34m.\u001b[0m\u001b[0mpredict\u001b[0m\u001b[0;34m(\u001b[0m\u001b[0mX\u001b[0m\u001b[0;34m)\u001b[0m\u001b[0;34m\u001b[0m\u001b[0;34m\u001b[0m\u001b[0m\n\u001b[0m\u001b[1;32m      3\u001b[0m   \u001b[0mfeature_PCA_50\u001b[0m \u001b[0;34m=\u001b[0m \u001b[0mpca\u001b[0m\u001b[0;34m.\u001b[0m\u001b[0mtransform\u001b[0m\u001b[0;34m(\u001b[0m\u001b[0mfeature\u001b[0m\u001b[0;34m)\u001b[0m\u001b[0;34m\u001b[0m\u001b[0;34m\u001b[0m\u001b[0m\n\u001b[1;32m      4\u001b[0m   \u001b[0mpredict\u001b[0m \u001b[0;34m=\u001b[0m \u001b[0mclf\u001b[0m\u001b[0;34m.\u001b[0m\u001b[0mpredict\u001b[0m\u001b[0;34m(\u001b[0m\u001b[0mfeature_PCA_50\u001b[0m\u001b[0;34m)\u001b[0m\u001b[0;34m\u001b[0m\u001b[0;34m\u001b[0m\u001b[0m\n\u001b[1;32m      5\u001b[0m   \u001b[0;32mreturn\u001b[0m \u001b[0mpredict\u001b[0m\u001b[0;34m\u001b[0m\u001b[0;34m\u001b[0m\u001b[0m\n",
      "\u001b[0;32m/usr/local/lib/python3.6/dist-packages/keras/engine/training.py\u001b[0m in \u001b[0;36mpredict\u001b[0;34m(self, x, batch_size, verbose, steps)\u001b[0m\n\u001b[1;32m   1167\u001b[0m                                             \u001b[0mbatch_size\u001b[0m\u001b[0;34m=\u001b[0m\u001b[0mbatch_size\u001b[0m\u001b[0;34m,\u001b[0m\u001b[0;34m\u001b[0m\u001b[0;34m\u001b[0m\u001b[0m\n\u001b[1;32m   1168\u001b[0m                                             \u001b[0mverbose\u001b[0m\u001b[0;34m=\u001b[0m\u001b[0mverbose\u001b[0m\u001b[0;34m,\u001b[0m\u001b[0;34m\u001b[0m\u001b[0;34m\u001b[0m\u001b[0m\n\u001b[0;32m-> 1169\u001b[0;31m                                             steps=steps)\n\u001b[0m\u001b[1;32m   1170\u001b[0m \u001b[0;34m\u001b[0m\u001b[0m\n\u001b[1;32m   1171\u001b[0m     def train_on_batch(self, x, y,\n",
      "\u001b[0;32m/usr/local/lib/python3.6/dist-packages/keras/engine/training_arrays.py\u001b[0m in \u001b[0;36mpredict_loop\u001b[0;34m(model, f, ins, batch_size, verbose, steps)\u001b[0m\n\u001b[1;32m    292\u001b[0m                 \u001b[0mins_batch\u001b[0m\u001b[0;34m[\u001b[0m\u001b[0mi\u001b[0m\u001b[0;34m]\u001b[0m \u001b[0;34m=\u001b[0m \u001b[0mins_batch\u001b[0m\u001b[0;34m[\u001b[0m\u001b[0mi\u001b[0m\u001b[0;34m]\u001b[0m\u001b[0;34m.\u001b[0m\u001b[0mtoarray\u001b[0m\u001b[0;34m(\u001b[0m\u001b[0;34m)\u001b[0m\u001b[0;34m\u001b[0m\u001b[0;34m\u001b[0m\u001b[0m\n\u001b[1;32m    293\u001b[0m \u001b[0;34m\u001b[0m\u001b[0m\n\u001b[0;32m--> 294\u001b[0;31m             \u001b[0mbatch_outs\u001b[0m \u001b[0;34m=\u001b[0m \u001b[0mf\u001b[0m\u001b[0;34m(\u001b[0m\u001b[0mins_batch\u001b[0m\u001b[0;34m)\u001b[0m\u001b[0;34m\u001b[0m\u001b[0;34m\u001b[0m\u001b[0m\n\u001b[0m\u001b[1;32m    295\u001b[0m             \u001b[0mbatch_outs\u001b[0m \u001b[0;34m=\u001b[0m \u001b[0mto_list\u001b[0m\u001b[0;34m(\u001b[0m\u001b[0mbatch_outs\u001b[0m\u001b[0;34m)\u001b[0m\u001b[0;34m\u001b[0m\u001b[0;34m\u001b[0m\u001b[0m\n\u001b[1;32m    296\u001b[0m             \u001b[0;32mif\u001b[0m \u001b[0mbatch_index\u001b[0m \u001b[0;34m==\u001b[0m \u001b[0;36m0\u001b[0m\u001b[0;34m:\u001b[0m\u001b[0;34m\u001b[0m\u001b[0;34m\u001b[0m\u001b[0m\n",
      "\u001b[0;32m/usr/local/lib/python3.6/dist-packages/keras/backend/tensorflow_backend.py\u001b[0m in \u001b[0;36m__call__\u001b[0;34m(self, inputs)\u001b[0m\n\u001b[1;32m   2713\u001b[0m                 \u001b[0;32mreturn\u001b[0m \u001b[0mself\u001b[0m\u001b[0;34m.\u001b[0m\u001b[0m_legacy_call\u001b[0m\u001b[0;34m(\u001b[0m\u001b[0minputs\u001b[0m\u001b[0;34m)\u001b[0m\u001b[0;34m\u001b[0m\u001b[0;34m\u001b[0m\u001b[0m\n\u001b[1;32m   2714\u001b[0m \u001b[0;34m\u001b[0m\u001b[0m\n\u001b[0;32m-> 2715\u001b[0;31m             \u001b[0;32mreturn\u001b[0m \u001b[0mself\u001b[0m\u001b[0;34m.\u001b[0m\u001b[0m_call\u001b[0m\u001b[0;34m(\u001b[0m\u001b[0minputs\u001b[0m\u001b[0;34m)\u001b[0m\u001b[0;34m\u001b[0m\u001b[0;34m\u001b[0m\u001b[0m\n\u001b[0m\u001b[1;32m   2716\u001b[0m         \u001b[0;32melse\u001b[0m\u001b[0;34m:\u001b[0m\u001b[0;34m\u001b[0m\u001b[0;34m\u001b[0m\u001b[0m\n\u001b[1;32m   2717\u001b[0m             \u001b[0;32mif\u001b[0m \u001b[0mpy_any\u001b[0m\u001b[0;34m(\u001b[0m\u001b[0mis_tensor\u001b[0m\u001b[0;34m(\u001b[0m\u001b[0mx\u001b[0m\u001b[0;34m)\u001b[0m \u001b[0;32mfor\u001b[0m \u001b[0mx\u001b[0m \u001b[0;32min\u001b[0m \u001b[0minputs\u001b[0m\u001b[0;34m)\u001b[0m\u001b[0;34m:\u001b[0m\u001b[0;34m\u001b[0m\u001b[0;34m\u001b[0m\u001b[0m\n",
      "\u001b[0;32m/usr/local/lib/python3.6/dist-packages/keras/backend/tensorflow_backend.py\u001b[0m in \u001b[0;36m_call\u001b[0;34m(self, inputs)\u001b[0m\n\u001b[1;32m   2673\u001b[0m             \u001b[0mfetched\u001b[0m \u001b[0;34m=\u001b[0m \u001b[0mself\u001b[0m\u001b[0;34m.\u001b[0m\u001b[0m_callable_fn\u001b[0m\u001b[0;34m(\u001b[0m\u001b[0;34m*\u001b[0m\u001b[0marray_vals\u001b[0m\u001b[0;34m,\u001b[0m \u001b[0mrun_metadata\u001b[0m\u001b[0;34m=\u001b[0m\u001b[0mself\u001b[0m\u001b[0;34m.\u001b[0m\u001b[0mrun_metadata\u001b[0m\u001b[0;34m)\u001b[0m\u001b[0;34m\u001b[0m\u001b[0;34m\u001b[0m\u001b[0m\n\u001b[1;32m   2674\u001b[0m         \u001b[0;32melse\u001b[0m\u001b[0;34m:\u001b[0m\u001b[0;34m\u001b[0m\u001b[0;34m\u001b[0m\u001b[0m\n\u001b[0;32m-> 2675\u001b[0;31m             \u001b[0mfetched\u001b[0m \u001b[0;34m=\u001b[0m \u001b[0mself\u001b[0m\u001b[0;34m.\u001b[0m\u001b[0m_callable_fn\u001b[0m\u001b[0;34m(\u001b[0m\u001b[0;34m*\u001b[0m\u001b[0marray_vals\u001b[0m\u001b[0;34m)\u001b[0m\u001b[0;34m\u001b[0m\u001b[0;34m\u001b[0m\u001b[0m\n\u001b[0m\u001b[1;32m   2676\u001b[0m         \u001b[0;32mreturn\u001b[0m \u001b[0mfetched\u001b[0m\u001b[0;34m[\u001b[0m\u001b[0;34m:\u001b[0m\u001b[0mlen\u001b[0m\u001b[0;34m(\u001b[0m\u001b[0mself\u001b[0m\u001b[0;34m.\u001b[0m\u001b[0moutputs\u001b[0m\u001b[0;34m)\u001b[0m\u001b[0;34m]\u001b[0m\u001b[0;34m\u001b[0m\u001b[0;34m\u001b[0m\u001b[0m\n\u001b[1;32m   2677\u001b[0m \u001b[0;34m\u001b[0m\u001b[0m\n",
      "\u001b[0;32m/usr/local/lib/python3.6/dist-packages/tensorflow/python/client/session.py\u001b[0m in \u001b[0;36m__call__\u001b[0;34m(self, *args, **kwargs)\u001b[0m\n\u001b[1;32m   1437\u001b[0m           ret = tf_session.TF_SessionRunCallable(\n\u001b[1;32m   1438\u001b[0m               \u001b[0mself\u001b[0m\u001b[0;34m.\u001b[0m\u001b[0m_session\u001b[0m\u001b[0;34m.\u001b[0m\u001b[0m_session\u001b[0m\u001b[0;34m,\u001b[0m \u001b[0mself\u001b[0m\u001b[0;34m.\u001b[0m\u001b[0m_handle\u001b[0m\u001b[0;34m,\u001b[0m \u001b[0margs\u001b[0m\u001b[0;34m,\u001b[0m \u001b[0mstatus\u001b[0m\u001b[0;34m,\u001b[0m\u001b[0;34m\u001b[0m\u001b[0;34m\u001b[0m\u001b[0m\n\u001b[0;32m-> 1439\u001b[0;31m               run_metadata_ptr)\n\u001b[0m\u001b[1;32m   1440\u001b[0m         \u001b[0;32mif\u001b[0m \u001b[0mrun_metadata\u001b[0m\u001b[0;34m:\u001b[0m\u001b[0;34m\u001b[0m\u001b[0;34m\u001b[0m\u001b[0m\n\u001b[1;32m   1441\u001b[0m           \u001b[0mproto_data\u001b[0m \u001b[0;34m=\u001b[0m \u001b[0mtf_session\u001b[0m\u001b[0;34m.\u001b[0m\u001b[0mTF_GetBuffer\u001b[0m\u001b[0;34m(\u001b[0m\u001b[0mrun_metadata_ptr\u001b[0m\u001b[0;34m)\u001b[0m\u001b[0;34m\u001b[0m\u001b[0;34m\u001b[0m\u001b[0m\n",
      "\u001b[0;31mKeyboardInterrupt\u001b[0m: "
     ]
    }
   ],
   "source": [
    "n_samples = 2 * 1000\n",
    "\n",
    "confusion_matrix = np.zeros((10, 10))\n",
    "\n",
    "errors = []\n",
    "error_lable = []\n",
    "\n",
    "for i in range(n_samples // 40):\n",
    "  print(i)\n",
    "  batch = validation_generator.next()\n",
    "  pred_test = CNN_PCA_SVM_predict(batch[0])\n",
    "  \n",
    "  for j in range(batch[1].shape[0]):\n",
    "    \n",
    "    true_lable = np.argmax(batch[1][j])    \n",
    "    confusion_matrix[true_lable, pred_test[j]] += 1\n",
    "    \n",
    "    if true_lable != pred_test[j]:\n",
    "      errors.append(batch[0][j])\n",
    "      error_lable.append((true_lable, pred_test[j]))\n",
    "\n",
    "errors = np.array(errors)\n",
    "print(errors.shape)\n",
    "print(confusion_matrix)"
   ]
  },
  {
   "cell_type": "code",
   "execution_count": null,
   "metadata": {
    "colab": {
     "base_uri": "https://localhost:8080/",
     "height": 1792
    },
    "colab_type": "code",
    "id": "-q-t1FGY7IyM",
    "outputId": "cd2379af-7bc8-4b78-ced7-3e73093a8486"
   },
   "outputs": [
    {
     "name": "stdout",
     "output_type": "stream",
     "text": [
      "47\n",
      "(224, 224, 3)\n",
      "4,3.jpg\n",
      "(224, 224, 3)\n",
      "6,9.jpg\n",
      "(224, 224, 3)\n",
      "1,6.jpg\n",
      "(224, 224, 3)\n",
      "4,7.jpg\n",
      "(224, 224, 3)\n",
      "2,3.jpg\n",
      "(224, 224, 3)\n",
      "3,2.jpg\n",
      "(224, 224, 3)\n",
      "4,3.jpg\n",
      "(224, 224, 3)\n",
      "5,0.jpg\n",
      "(224, 224, 3)\n",
      "6,9.jpg\n",
      "(224, 224, 3)\n",
      "2,1.jpg\n",
      "(224, 224, 3)\n",
      "9,6.jpg\n",
      "(224, 224, 3)\n",
      "4,2.jpg\n",
      "(224, 224, 3)\n",
      "4,6.jpg\n",
      "(224, 224, 3)\n",
      "2,3.jpg\n",
      "(224, 224, 3)\n",
      "9,1.jpg\n",
      "(224, 224, 3)\n",
      "1,6.jpg\n",
      "(224, 224, 3)\n",
      "9,6.jpg\n",
      "(224, 224, 3)\n",
      "3,2.jpg\n",
      "(224, 224, 3)\n",
      "4,3.jpg\n",
      "(224, 224, 3)\n",
      "6,9.jpg\n",
      "(224, 224, 3)\n",
      "3,2.jpg\n",
      "(224, 224, 3)\n",
      "9,6.jpg\n",
      "(224, 224, 3)\n",
      "6,9.jpg\n",
      "(224, 224, 3)\n",
      "5,0.jpg\n",
      "(224, 224, 3)\n",
      "5,0.jpg\n",
      "(224, 224, 3)\n",
      "2,9.jpg\n",
      "(224, 224, 3)\n",
      "3,2.jpg\n",
      "(224, 224, 3)\n",
      "2,1.jpg\n",
      "(224, 224, 3)\n",
      "4,3.jpg\n",
      "(224, 224, 3)\n",
      "4,7.jpg\n",
      "(224, 224, 3)\n",
      "4,2.jpg\n",
      "(224, 224, 3)\n",
      "9,5.jpg\n",
      "(224, 224, 3)\n",
      "6,9.jpg\n",
      "(224, 224, 3)\n",
      "1,2.jpg\n",
      "(224, 224, 3)\n",
      "4,6.jpg\n",
      "(224, 224, 3)\n",
      "2,9.jpg\n",
      "(224, 224, 3)\n",
      "4,3.jpg\n",
      "(224, 224, 3)\n",
      "6,9.jpg\n",
      "(224, 224, 3)\n",
      "3,2.jpg\n",
      "(224, 224, 3)\n",
      "3,4.jpg\n",
      "(224, 224, 3)\n",
      "5,8.jpg\n",
      "(224, 224, 3)\n",
      "2,1.jpg\n",
      "(224, 224, 3)\n",
      "9,6.jpg\n",
      "(224, 224, 3)\n",
      "2,3.jpg\n",
      "(224, 224, 3)\n",
      "3,2.jpg\n",
      "(224, 224, 3)\n",
      "2,3.jpg\n",
      "(224, 224, 3)\n",
      "4,0.jpg\n"
     ]
    }
   ],
   "source": [
    "print(len(errors))\n",
    "for i in range(len(errors)):\n",
    "  print(errors[i].shape)\n",
    "  print(str(error_lable[i][0]) + \",\" + str(error_lable[i][1]) + '.jpg')\n",
    "  cv2.imwrite(str(error_lable[i][0]) + \",\" + str(error_lable[i][1]) + '.jpg', errors[i] * 255)"
   ]
  },
  {
   "cell_type": "markdown",
   "metadata": {
    "colab_type": "text",
    "id": "q_6hb1bqUGgx"
   },
   "source": [
    "----------------------------------------------------"
   ]
  }
 ],
 "metadata": {
  "accelerator": "GPU",
  "colab": {
   "collapsed_sections": [],
   "name": "Alexnet transfer learning.ipynb",
   "provenance": [],
   "toc_visible": true
  },
  "kernelspec": {
   "display_name": "Python 3 (ipykernel)",
   "language": "python",
   "name": "python3"
  },
  "language_info": {
   "codemirror_mode": {
    "name": "ipython",
    "version": 3
   },
   "file_extension": ".py",
   "mimetype": "text/x-python",
   "name": "python",
   "nbconvert_exporter": "python",
   "pygments_lexer": "ipython3",
   "version": "3.10.6"
  }
 },
 "nbformat": 4,
 "nbformat_minor": 4
}
